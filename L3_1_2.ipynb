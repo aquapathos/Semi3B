{
  "nbformat": 4,
  "nbformat_minor": 0,
  "metadata": {
    "colab": {
      "name": "L3-1-2.ipynb",
      "version": "0.3.2",
      "provenance": [],
      "include_colab_link": true
    },
    "kernelspec": {
      "name": "python3",
      "display_name": "Python 3"
    }
  },
  "cells": [
    {
      "cell_type": "markdown",
      "metadata": {
        "id": "view-in-github",
        "colab_type": "text"
      },
      "source": [
        "<a href=\"https://colab.research.google.com/github/aquapathos/Semi3B/blob/master/L3_1_2.ipynb\" target=\"_parent\"><img src=\"https://colab.research.google.com/assets/colab-badge.svg\" alt=\"Open In Colab\"/></a>"
      ]
    },
    {
      "metadata": {
        "id": "RRZp9ujYeYTt",
        "colab_type": "text"
      },
      "cell_type": "markdown",
      "source": [
        "# グラフに日本語フォントで出力するには\n",
        "ひと手間、いや、３手間ほど必要になります。\n",
        "\n",
        "\n",
        "1.    !apt-get -y install fonts-ipafont-gothic  で日本語フォントを導入\n",
        "2.   !rm  -r  /root/.cache/matplotlib\n",
        "3.   ランタイムを再起動\n",
        "\n",
        "\n",
        "### 補足\n",
        "なお、フォントキャッシュのディレクトリは次のようにして確認できる。\n",
        "```\n",
        "import matplotlib\n",
        "matplotlib.get_cachedir()\n",
        "```\n",
        "\n",
        "２のステップで、fontList.json を削除すると書かれているサイトが多いのだが、fontList.json はなかったり、あったりするので、matplotlib ごと削除してみたらうまくいった。弊害があるかもしれない。\n",
        "\n"
      ]
    },
    {
      "metadata": {
        "id": "uDxT_dzFBtyT",
        "colab_type": "code",
        "colab": {}
      },
      "cell_type": "code",
      "source": [
        "#!rm /content/.cache/matplotlib/fontList.json\n",
        "!apt-get -y install fonts-ipafont-gothic"
      ],
      "execution_count": 0,
      "outputs": []
    },
    {
      "metadata": {
        "id": "D5QD37p6df9b",
        "colab_type": "code",
        "colab": {}
      },
      "cell_type": "code",
      "source": [
        "!ls /root/.cache/matplotlib\n",
        "#!rm -r /root/.cache/matplotlib"
      ],
      "execution_count": 0,
      "outputs": []
    },
    {
      "metadata": {
        "id": "k-ogSakXByOi",
        "colab_type": "text"
      },
      "cell_type": "markdown",
      "source": [
        "\n",
        "\n",
        "ランタイムを再起動\n"
      ]
    },
    {
      "metadata": {
        "id": "xwuxctmy5AOy",
        "colab_type": "code",
        "colab": {}
      },
      "cell_type": "code",
      "source": [
        "import numpy as np\n",
        "import matplotlib.pyplot as plt\n",
        "from mpl_toolkits.mplot3d import Axes3D\n",
        "\n",
        "plt.rcParams['font.family'] = 'IPAPGothic'\n",
        "\n",
        "\n",
        "def main():\n",
        "    # 乱数を50個生成して x とする。y, z も同様\n",
        "    x = np.random.randn(50)\n",
        "    y = np.random.randn(50)\n",
        "    z = np.random.randn(50)\n",
        "    # 3Dでプロット\n",
        "    fig = plt.figure()\n",
        "    ax = Axes3D(fig)\n",
        "    for x1,y1,z1 in zip(x,y,z):\n",
        "        if x1 < 0:\n",
        "            ax.plot([x1], [y1], [z1], \"o\", color=\"#0000aa\")\n",
        "        else:\n",
        "            ax.plot([x1], [y1], [z1], \"o\", color=\"#aa0000\")\n",
        "    # jp_font = {'fontname':'IPAGothic'}\n",
        "    # plt.rcParams['font.family'] = 'HGMaruGothicMPRO'\n",
        "    # plt.rcParams['font.family'] = 'IPAGothic' # 日本語フォントを指定\n",
        "    # 軸のラベルを設定 \n",
        "    ax.set_xlabel('x軸')\n",
        "    ax.set_ylabel('y軸')\n",
        "    ax.set_zlabel('z軸')\n",
        "    # 表示\n",
        "    plt.show()"
      ],
      "execution_count": 0,
      "outputs": []
    },
    {
      "metadata": {
        "id": "Pujv0lXG5EEy",
        "colab_type": "code",
        "colab": {}
      },
      "cell_type": "code",
      "source": [
        "main()"
      ],
      "execution_count": 0,
      "outputs": []
    },
    {
      "metadata": {
        "id": "z_M0OkW15O6I",
        "colab_type": "code",
        "colab": {}
      },
      "cell_type": "code",
      "source": [
        "!ls /root/.cache/matplotlib"
      ],
      "execution_count": 0,
      "outputs": []
    },
    {
      "metadata": {
        "id": "zuLVDCUagP9k",
        "colab_type": "code",
        "colab": {}
      },
      "cell_type": "code",
      "source": [
        ""
      ],
      "execution_count": 0,
      "outputs": []
    }
  ]
}