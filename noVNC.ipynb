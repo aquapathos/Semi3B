{
  "nbformat": 4,
  "nbformat_minor": 0,
  "metadata": {
    "colab": {
      "name": "noVNC.ipynb",
      "version": "0.3.2",
      "provenance": [],
      "collapsed_sections": [],
      "include_colab_link": true
    },
    "kernelspec": {
      "name": "python3",
      "display_name": "Python 3"
    },
    "accelerator": "GPU"
  },
  "cells": [
    {
      "cell_type": "markdown",
      "metadata": {
        "id": "view-in-github",
        "colab_type": "text"
      },
      "source": [
        "<a href=\"https://colab.research.google.com/github/aquapathos/Semi3B/blob/master/noVNC.ipynb\" target=\"_parent\"><img src=\"https://colab.research.google.com/assets/colab-badge.svg\" alt=\"Open In Colab\"/></a>"
      ]
    },
    {
      "metadata": {
        "id": "g4vi7kfMOwCJ",
        "colab_type": "text"
      },
      "cell_type": "markdown",
      "source": [
        "# noVNC + Ngrok\n",
        "\n",
        "Google Colaboratory はクラウドで動かせる jupyter notebook 環境，基本的には GUI は使えないわけですが，\n",
        "Ubuntu 18.04 の動作する仮想マシンであり，apt や pip が使え，自由にソフトを追加して使えます．\n",
        "そこで，まず，\n",
        "\n",
        "* Xvfb　 仮想ディスプレイ\n",
        "* X11　   Xサーバと xterm , Web ブラウザ\n",
        "\n",
        "を導入することで，GUIアプリケーションが動くようにします．\n",
        "\n",
        "\n",
        "グローバルアドレスが使えるなら，\n",
        "\n",
        "- VNCサーバ\n",
        "\n",
        "を立ち上げて，VNC クライアントでリモートデスクトップで使う，ということができるわけですが，\n",
        "Colaboratory の仮想マシンはプライベートアドレスで動作していますので，外部から接続できません．\n",
        "\n",
        "## 裏技\n",
        "\n",
        "VNCクライアントではなく，任意のブラウザでVNCサーバにアクセスできるようにする\n",
        "\n",
        "- noVNC\n",
        "\n",
        "というソフトがあります．ブラウザでアクセスということは，これはHTTPのサービスとして稼働させるということです．\n",
        "\n",
        "一方で，ローカルネットーワ限定でアクセスできるHTTPサーバをポートフォワードを使ってインターネットに公開できるようにしてくれるサービスがいくつかあります．例えば，\n",
        "\n",
        "- localtunnel\n",
        "- Ngrok\n",
        "\n",
        "などです．\n",
        "\n",
        "noVNC を使って Xvfb 上のデスクトップをブラウザで閲覧できるような HTTPサーバを Colaboratory のマシンのローカルなサーバとして立ち上げ，\n",
        "それを Ngrok を使ってインターネットに公開してみようというわけです．\n",
        "\n",
        "HTTPですので，パソコンだけでなく，スマホやiPad などでもアクセス可能です．\n"
      ]
    },
    {
      "metadata": {
        "id": "wS3y0kByM55V",
        "colab_type": "code",
        "colab": {}
      },
      "cell_type": "code",
      "source": [
        "%%bash\n",
        "VIRTUALGL_VERSION=2.6.1\n",
        "TURBOVNC_VERSION=2.2.1\n",
        "LIBJPEG_VERSION=2.0.0\n",
        "NOVNC_VERSION=1.0.0\n",
        "WEBSOCKIFY_VERSION=0.8.0\n",
        "CWD=$(pwd)\n",
        "mkdir -p /opt\n",
        "\n",
        "# TurboVNC + VirtualGL\n",
        "cd /tmp\n",
        "curl -fsSL -O https://sourceforge.net/projects/turbovnc/files/${TURBOVNC_VERSION}/turbovnc_${TURBOVNC_VERSION}_amd64.deb\n",
        "curl -fsSL -O https://sourceforge.net/projects/libjpeg-turbo/files/${LIBJPEG_VERSION}/libjpeg-turbo-official_${LIBJPEG_VERSION}_amd64.deb\n",
        "curl -fsSL -O https://sourceforge.net/projects/virtualgl/files/${VIRTUALGL_VERSION}/virtualgl_${VIRTUALGL_VERSION}_amd64.deb\n",
        "dpkg -i *.deb\n",
        "sed -i 's/$host:/unix:/g' /opt/TurboVNC/bin/vncserver\n",
        "rm -f /tmp/*.deb\n",
        "\n",
        "# noVNC\n",
        "curl -fsSL https://github.com/novnc/noVNC/archive/v${NOVNC_VERSION}.tar.gz | tar -xzf - -C /opt \n",
        "curl -fsSL https://github.com/novnc/websockify/archive/v${WEBSOCKIFY_VERSION}.tar.gz | tar -xzf - -C /opt \n",
        "rm -rf /opt/noVNC\n",
        "mv /opt/noVNC-${NOVNC_VERSION} /opt/noVNC\n",
        "rm -rf /opt/websockify\n",
        "mv /opt/websockify-${WEBSOCKIFY_VERSION} /opt/websockify\n",
        "ln -s /opt/noVNC/vnc_lite.html /opt/noVNC/index.html\n",
        "cd /opt/websockify\n",
        "make  > /dev/null\n",
        "\n",
        "cd ${CWD}\n",
        "\n",
        "# X11\n",
        "apt-get update && apt-get install -y --no-install-recommends \\\n",
        "        ca-certificates \\\n",
        "        curl \\\n",
        "        vim.tiny \\\n",
        "        nano \\\n",
        "        libc6-dev \\\n",
        "        libglu1 \\\n",
        "        libsm6 \\\n",
        "        libxv1 \\\n",
        "        x11-xkb-utils \\\n",
        "        xauth \\\n",
        "        xfonts-base \\\n",
        "        xkb-data \\\n",
        "        openbox \\\n",
        "        xterm \\\n",
        "        xvfb \\\n",
        "        x11vnc \\\n",
        "        xtightvncviewer \\\n",
        "        mesa-utils \\\n",
        "        python-opengl \\\n",
        "    > /dev/null\n",
        "    \n",
        "cd ${CWD}\n",
        "\n",
        "# Xvfb (仮想ディスプレイ)\n",
        "apt-get -q -y install xvfb > /dev/null\n",
        "\n",
        "# Web ブラウザ（Epiphany）\n",
        "add-apt-repository ppa:gnome3-team/gnome3  > /dev/null\n",
        "apt-get update > /dev/null\n",
        "apt-get install epiphany-browser > /dev/null\n",
        "\n",
        "\n",
        "# Ngrok\n",
        "mkdir -p /content/.vnc\n",
        "curl -fsSL -O https://bin.equinox.io/c/4VmDzA7iaHb/ngrok-stable-linux-amd64.zip\n",
        "rm /opt/ngrok\n",
        "unzip -d /opt ngrok-stable-linux-amd64.zip\n",
        "rm ngrok-stable-linux-amd64.zip \n",
        "echo \"web_addr: 4045\" > /content/config.yml\n"
      ],
      "execution_count": 0,
      "outputs": []
    },
    {
      "metadata": {
        "id": "j3pbC322Yw5F",
        "colab_type": "text"
      },
      "cell_type": "markdown",
      "source": [
        "# Ngrok"
      ]
    },
    {
      "metadata": {
        "id": "lfqL-7q9Yv39",
        "colab_type": "code",
        "colab": {}
      },
      "cell_type": "code",
      "source": [
        ""
      ],
      "execution_count": 0,
      "outputs": []
    },
    {
      "metadata": {
        "id": "2mzWJ7sERAof",
        "colab_type": "text"
      },
      "cell_type": "markdown",
      "source": [
        "# VNC 起動"
      ]
    },
    {
      "metadata": {
        "id": "lLanG356Nyj3",
        "colab_type": "code",
        "colab": {}
      },
      "cell_type": "code",
      "source": [
        "import os\n",
        "os.environ['PATH'] += \"/opt/TurboVNC/bin\"\n",
        "\n",
        "!kill $(ps ax | grep websockify | grep -v grep | awk '{ print $1 }') >/dev/null\n",
        "!pkill ngrok\n",
        "!pkill vncserver\n",
        "!pkill Xvnc\n",
        "!pkill Xvfb\n",
        "!pkill x11vnc\n",
        "\n",
        "! timeout 5 /opt/websockify/run 5901 --web=/opt/noVNC --wrap-mode=ignore -- /opt/TurboVNC/bin/vncserver :1 -securitytypes otp -otp -noxstartup 2>/dev/null\n",
        "get_ipython().system_raw('python /opt/websockify/run 5901 --web=/opt/noVNC --wrap-mode=ignore -- /opt/TurboVNC/bin/vncserver :1 -securitytypes otp -otp -noxstartup > /content/.vnc/stdout 2>&1 &')\n",
        "get_ipython().system_raw('/opt/ngrok http -config=/content/config.yml 5901 &')\n",
        "! sleep 1\n",
        "get_ipython().system_raw('DISPLAY=:1 openbox &')\n",
        "\n",
        "get_ipython().system_raw('DISPLAY=:1 xterm &')\n",
        "get_ipython().system_raw('DISPLAY=:1 epiphany http://google.com &')"
      ],
      "execution_count": 0,
      "outputs": []
    },
    {
      "metadata": {
        "id": "BpXoXAATZP8K",
        "colab_type": "text"
      },
      "cell_type": "markdown",
      "source": [
        "# noVNC転送\n",
        "表示された URL にアクセスし，表示されているパスワードで仮想デスクトップにアクセス"
      ]
    },
    {
      "metadata": {
        "id": "bOjxfHN1YRTE",
        "colab_type": "code",
        "colab": {}
      },
      "cell_type": "code",
      "source": [
        "!grep \"one-time password:\" /content/.vnc/stdout\n",
        "\n",
        "import requests\n",
        "import json\n",
        "r = requests.get(\"http://localhost:4045/api/tunnels\", headers={\"content-type\": \"application/json\"})\n",
        "print(r.json()['tunnels'][0]['public_url'])"
      ],
      "execution_count": 0,
      "outputs": []
    },
    {
      "metadata": {
        "id": "_SrZprxXPkiG",
        "colab_type": "code",
        "colab": {}
      },
      "cell_type": "code",
      "source": [
        ""
      ],
      "execution_count": 0,
      "outputs": []
    }
  ]
}