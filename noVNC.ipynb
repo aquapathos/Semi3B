{
  "nbformat": 4,
  "nbformat_minor": 0,
  "metadata": {
    "colab": {
      "name": "noVNC.ipynb",
      "version": "0.3.2",
      "provenance": [],
      "collapsed_sections": [],
      "include_colab_link": true
    },
    "kernelspec": {
      "name": "python3",
      "display_name": "Python 3"
    },
    "accelerator": "GPU"
  },
  "cells": [
    {
      "cell_type": "markdown",
      "metadata": {
        "id": "view-in-github",
        "colab_type": "text"
      },
      "source": [
        "<a href=\"https://colab.research.google.com/github/aquapathos/Semi3B/blob/master/noVNC.ipynb\" target=\"_parent\"><img src=\"https://colab.research.google.com/assets/colab-badge.svg\" alt=\"Open In Colab\"/></a>"
      ]
    },
    {
      "metadata": {
        "id": "g4vi7kfMOwCJ",
        "colab_type": "text"
      },
      "cell_type": "markdown",
      "source": [
        "# noVNC + Ngrok\n",
        "\n",
        "Google Colaboratory はクラウドで動かせる jupyter notebook 環境，基本的には GUI は使えないわけですが，\n",
        "Ubuntu 18.04 の動作する仮想マシンであり，apt や pip が使え，自由にソフトを追加して使えます．\n",
        "そこで，まず，\n",
        "\n",
        "* Xvfb　 仮想ディスプレイ\n",
        "* X11　   Xサーバと xterm , Web ブラウザ\n",
        "\n",
        "を導入することで，GUIアプリケーションが動くようにします．\n",
        "\n",
        "\n",
        "グローバルアドレスが使えるなら，\n",
        "\n",
        "- VNCサーバ\n",
        "\n",
        "を立ち上げて，VNC クライアントでリモートデスクトップで使う，ということができるわけですが，\n",
        "Colaboratory の仮想マシンはプライベートアドレスで動作していますので，外部から接続できません．\n",
        "\n",
        "## 裏技\n",
        "\n",
        "VNCクライアントではなく，任意のブラウザでVNCサーバにアクセスできるようにする\n",
        "\n",
        "- noVNC\n",
        "\n",
        "というソフトがあります．ブラウザでアクセスということは，これはHTTPのサービスとして稼働させるということです．\n",
        "\n",
        "一方で，ローカルネットーワ限定でアクセスできるHTTPサーバをポートフォワードを使ってインターネットに公開できるようにしてくれるサービスがいくつかあります．例えば，\n",
        "\n",
        "- localtunnel\n",
        "- Ngrok\n",
        "\n",
        "などです．\n",
        "\n",
        "noVNC を使って Xvfb 上のデスクトップをブラウザで閲覧できるような HTTPサーバを Colaboratory のマシンのローカルなサーバとして立ち上げ，\n",
        "それを Ngrok を使ってインターネットに公開してみようというわけです．\n",
        "\n",
        "HTTPですので，パソコンだけでなく，スマホやiPad などでもアクセス可能です．\n"
      ]
    },
    {
      "metadata": {
        "id": "wS3y0kByM55V",
        "colab_type": "code",
        "colab": {
          "base_uri": "https://localhost:8080/",
          "height": 697
        },
        "outputId": "20f4c8cb-5c4b-457e-99d1-336c79b481b0"
      },
      "cell_type": "code",
      "source": [
        "%%bash\n",
        "VIRTUALGL_VERSION=2.6.1\n",
        "TURBOVNC_VERSION=2.2.1\n",
        "LIBJPEG_VERSION=2.0.0\n",
        "NOVNC_VERSION=1.0.0\n",
        "WEBSOCKIFY_VERSION=0.8.0\n",
        "CWD=$(pwd)\n",
        "mkdir -p /opt\n",
        "\n",
        "# TurboVNC + VirtualGL\n",
        "cd /tmp\n",
        "curl -fsSL -O https://sourceforge.net/projects/turbovnc/files/${TURBOVNC_VERSION}/turbovnc_${TURBOVNC_VERSION}_amd64.deb\n",
        "curl -fsSL -O https://sourceforge.net/projects/libjpeg-turbo/files/${LIBJPEG_VERSION}/libjpeg-turbo-official_${LIBJPEG_VERSION}_amd64.deb\n",
        "curl -fsSL -O https://sourceforge.net/projects/virtualgl/files/${VIRTUALGL_VERSION}/virtualgl_${VIRTUALGL_VERSION}_amd64.deb\n",
        "dpkg -i *.deb\n",
        "sed -i 's/$host:/unix:/g' /opt/TurboVNC/bin/vncserver\n",
        "rm -f /tmp/*.deb\n",
        "\n",
        "# noVNC\n",
        "curl -fsSL https://github.com/novnc/noVNC/archive/v${NOVNC_VERSION}.tar.gz | tar -xzf - -C /opt \n",
        "curl -fsSL https://github.com/novnc/websockify/archive/v${WEBSOCKIFY_VERSION}.tar.gz | tar -xzf - -C /opt \n",
        "rm -rf /opt/noVNC\n",
        "mv /opt/noVNC-${NOVNC_VERSION} /opt/noVNC\n",
        "rm -rf /opt/websockify\n",
        "mv /opt/websockify-${WEBSOCKIFY_VERSION} /opt/websockify\n",
        "ln -s /opt/noVNC/vnc_lite.html /opt/noVNC/index.html\n",
        "cd /opt/websockify\n",
        "make  > /dev/null\n",
        "\n",
        "cd ${CWD}\n",
        "\n",
        "# X11\n",
        "apt-get update && apt-get install -y --no-install-recommends \\\n",
        "        ca-certificates \\\n",
        "        curl \\\n",
        "        vim.tiny \\\n",
        "        nano \\\n",
        "        libc6-dev \\\n",
        "        libglu1 \\\n",
        "        libsm6 \\\n",
        "        libxv1 \\\n",
        "        x11-xkb-utils \\\n",
        "        xauth \\\n",
        "        xfonts-base \\\n",
        "        xkb-data \\\n",
        "        openbox \\\n",
        "        xterm \\\n",
        "        xvfb \\\n",
        "        x11vnc \\\n",
        "        xtightvncviewer \\\n",
        "        mesa-utils \\\n",
        "        python-opengl \\\n",
        "    > /dev/null\n",
        "    \n",
        "cd ${CWD}\n",
        "\n",
        "# Xvfb (仮想ディスプレイ)\n",
        "apt-get -q -y install xvfb > /dev/null\n",
        "\n",
        "# Web ブラウザ（Epiphany）\n",
        "add-apt-repository ppa:gnome3-team/gnome3  > /dev/null\n",
        "apt-get update > /dev/null\n",
        "apt-get install epiphany-browser > /dev/null\n",
        "\n",
        "\n",
        "# Ngrok\n",
        "mkdir -p /content/.vnc\n",
        "curl -fsSL -O https://bin.equinox.io/c/4VmDzA7iaHb/ngrok-stable-linux-amd64.zip\n",
        "rm /opt/ngrok\n",
        "unzip -d /opt ngrok-stable-linux-amd64.zip\n",
        "rm ngrok-stable-linux-amd64.zip \n",
        "echo \"web_addr: 4045\" > /content/config.yml\n"
      ],
      "execution_count": 1,
      "outputs": [
        {
          "output_type": "stream",
          "text": [
            "Selecting previously unselected package libjpeg-turbo-official.\n",
            "(Reading database ... 131304 files and directories currently installed.)\n",
            "Preparing to unpack libjpeg-turbo-official_2.0.0_amd64.deb ...\n",
            "Unpacking libjpeg-turbo-official (2.0.0-20180727) ...\n",
            "Selecting previously unselected package turbovnc.\n",
            "Preparing to unpack turbovnc_2.2.1_amd64.deb ...\n",
            "Unpacking turbovnc (2.2.1-20190102) ...\n",
            "Selecting previously unselected package virtualgl.\n",
            "Preparing to unpack virtualgl_2.6.1_amd64.deb ...\n",
            "Unpacking virtualgl (2.6.1-20190411) ...\n",
            "Setting up libjpeg-turbo-official (2.0.0-20180727) ...\n",
            "Setting up turbovnc (2.2.1-20190102) ...\n",
            "Setting up virtualgl (2.6.1-20190411) ...\n",
            "Processing triggers for systemd (237-3ubuntu10.17) ...\n",
            "Processing triggers for mime-support (3.60ubuntu1) ...\n",
            "Get:1 http://security.ubuntu.com/ubuntu bionic-security InRelease [88.7 kB]\n",
            "Hit:2 http://ppa.launchpad.net/graphics-drivers/ppa/ubuntu bionic InRelease\n",
            "Hit:3 http://archive.ubuntu.com/ubuntu bionic InRelease\n",
            "Get:4 http://archive.ubuntu.com/ubuntu bionic-updates InRelease [88.7 kB]\n",
            "Get:5 http://ppa.launchpad.net/marutter/c2d4u3.5/ubuntu bionic InRelease [15.4 kB]\n",
            "Get:6 http://archive.ubuntu.com/ubuntu bionic-backports InRelease [74.6 kB]\n",
            "Get:7 https://cloud.r-project.org/bin/linux/ubuntu bionic-cran35/ InRelease [3,609 B]\n",
            "Ign:8 https://developer.download.nvidia.com/compute/cuda/repos/ubuntu1804/x86_64  InRelease\n",
            "Ign:9 https://developer.download.nvidia.com/compute/machine-learning/repos/ubuntu1804/x86_64  InRelease\n",
            "Hit:10 https://developer.download.nvidia.com/compute/cuda/repos/ubuntu1804/x86_64  Release\n",
            "Hit:11 https://developer.download.nvidia.com/compute/machine-learning/repos/ubuntu1804/x86_64  Release\n",
            "Get:12 http://ppa.launchpad.net/marutter/c2d4u3.5/ubuntu bionic/main Sources [1,633 kB]\n",
            "Get:13 http://security.ubuntu.com/ubuntu bionic-security/universe amd64 Packages [163 kB]\n",
            "Get:14 http://security.ubuntu.com/ubuntu bionic-security/multiverse amd64 Packages [3,915 B]\n",
            "Get:15 http://security.ubuntu.com/ubuntu bionic-security/main amd64 Packages [377 kB]\n",
            "Get:16 http://ppa.launchpad.net/marutter/c2d4u3.5/ubuntu bionic/main amd64 Packages [784 kB]\n",
            "Get:17 http://archive.ubuntu.com/ubuntu bionic-updates/main amd64 Packages [747 kB]\n",
            "Get:18 http://archive.ubuntu.com/ubuntu bionic-updates/universe amd64 Packages [967 kB]\n",
            "Get:19 http://archive.ubuntu.com/ubuntu bionic-updates/multiverse amd64 Packages [6,968 B]\n",
            "Get:20 https://cloud.r-project.org/bin/linux/ubuntu bionic-cran35/ Packages [60.4 kB]\n",
            "Fetched 5,015 kB in 2s (2,527 kB/s)\n",
            "Reading package lists...\n",
            "Archive:  ngrok-stable-linux-amd64.zip\n",
            "  inflating: /opt/ngrok              \n"
          ],
          "name": "stdout"
        },
        {
          "output_type": "stream",
          "text": [
            "rm: cannot remove '/opt/ngrok': No such file or directory\n"
          ],
          "name": "stderr"
        }
      ]
    },
    {
      "metadata": {
        "id": "2mzWJ7sERAof",
        "colab_type": "text"
      },
      "cell_type": "markdown",
      "source": [
        "# VNC 起動"
      ]
    },
    {
      "metadata": {
        "id": "lLanG356Nyj3",
        "colab_type": "code",
        "colab": {
          "base_uri": "https://localhost:8080/",
          "height": 68
        },
        "outputId": "eeaae395-6565-42be-9485-47225d68b0db"
      },
      "cell_type": "code",
      "source": [
        "import os\n",
        "os.environ['PATH'] += \"/opt/TurboVNC/bin\"\n",
        "\n",
        "!kill $(ps ax | grep websockify | grep -v grep | awk '{ print $1 }') >/dev/null\n",
        "!pkill ngrok\n",
        "!pkill vncserver\n",
        "!pkill Xvnc\n",
        "!pkill Xvfb\n",
        "!pkill x11vnc\n",
        "\n",
        "! timeout 5 /opt/websockify/run 5901 --web=/opt/noVNC --wrap-mode=ignore -- /opt/TurboVNC/bin/vncserver :1 -securitytypes otp -otp -noxstartup 2>/dev/null\n",
        "get_ipython().system_raw('python /opt/websockify/run 5901 --web=/opt/noVNC --wrap-mode=ignore -- /opt/TurboVNC/bin/vncserver :1 -securitytypes otp -otp -noxstartup > /content/.vnc/stdout 2>&1 &')\n",
        "get_ipython().system_raw('/opt/ngrok http -config=/content/config.yml 5901 &')\n",
        "! sleep 1\n",
        "get_ipython().system_raw('DISPLAY=:1 openbox &')\n",
        "get_ipython().system_raw('DISPLAY=:1 jupyter notebook &')\n",
        "get_ipython().system_raw('DISPLAY=:1 xterm &')\n",
        "get_ipython().system_raw('DISPLAY=:1 epiphany http://localhost:8888 &')"
      ],
      "execution_count": 2,
      "outputs": [
        {
          "output_type": "stream",
          "text": [
            "kill: usage: kill [-s sigspec | -n signum | -sigspec] pid | jobspec ... or kill -l [sigspec]\n"
          ],
          "name": "stdout"
        }
      ]
    },
    {
      "metadata": {
        "id": "BpXoXAATZP8K",
        "colab_type": "text"
      },
      "cell_type": "markdown",
      "source": [
        "# noVNC転送\n",
        "表示された URL にアクセスし，表示されているパスワードで仮想デスクトップにアクセス"
      ]
    },
    {
      "metadata": {
        "id": "bOjxfHN1YRTE",
        "colab_type": "code",
        "colab": {
          "base_uri": "https://localhost:8080/",
          "height": 68
        },
        "outputId": "004c4fc3-a600-4613-e498-856e95455df9"
      },
      "cell_type": "code",
      "source": [
        "!grep \"one-time password:\" /content/.vnc/stdout\n",
        "\n",
        "import requests\n",
        "import json\n",
        "r = requests.get(\"http://localhost:4045/api/tunnels\", headers={\"content-type\": \"application/json\"})\n",
        "print(r.json()['tunnels'][0]['public_url'])"
      ],
      "execution_count": 3,
      "outputs": [
        {
          "output_type": "stream",
          "text": [
            "Full control one-time password: 33545121\n",
            "http://483a2b80.ngrok.io\n"
          ],
          "name": "stdout"
        }
      ]
    }
  ]
}