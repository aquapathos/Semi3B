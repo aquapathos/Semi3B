{
  "nbformat": 4,
  "nbformat_minor": 0,
  "metadata": {
    "colab": {
      "name": "noVNC.ipynb",
      "version": "0.3.2",
      "provenance": [],
      "collapsed_sections": [],
      "include_colab_link": true
    },
    "kernelspec": {
      "name": "python3",
      "display_name": "Python 3"
    },
    "accelerator": "GPU"
  },
  "cells": [
    {
      "cell_type": "markdown",
      "metadata": {
        "id": "view-in-github",
        "colab_type": "text"
      },
      "source": [
        "<a href=\"https://colab.research.google.com/github/aquapathos/Semi3B/blob/master/noVNC.ipynb\" target=\"_parent\"><img src=\"https://colab.research.google.com/assets/colab-badge.svg\" alt=\"Open In Colab\"/></a>"
      ]
    },
    {
      "metadata": {
        "id": "g4vi7kfMOwCJ",
        "colab_type": "text"
      },
      "cell_type": "markdown",
      "source": [
        "# noVNC + Ngrok\n",
        "\n",
        "Google Colaboratory はクラウドで動かせる jupyter notebook 環境，基本的には GUI は使えないわけですが，\n",
        "Ubuntu 18.04 の動作する仮想マシンであり，apt や pip が使え，自由にソフトを追加して使えます．\n",
        "そこで，まず，\n",
        "\n",
        "* Xvfb　 仮想ディスプレイ\n",
        "* X11　   Xサーバと xterm , Web ブラウザ\n",
        "\n",
        "を導入することで，GUIアプリケーションが動くようにします．\n",
        "\n",
        "\n",
        "グローバルアドレスが使えるなら，\n",
        "\n",
        "- VNCサーバ\n",
        "\n",
        "を立ち上げて，VNC クライアントでリモートデスクトップで使う，ということができるわけですが，\n",
        "Colaboratory の仮想マシンはプライベートアドレスで動作していますので，外部から接続できません．\n",
        "\n",
        "## 裏技\n",
        "\n",
        "VNCクライアントではなく，任意のブラウザでVNCサーバにアクセスできるようにする\n",
        "\n",
        "- noVNC\n",
        "\n",
        "というソフトがあります．ブラウザでアクセスということは，これはHTTPのサービスとして稼働させるということです．\n",
        "\n",
        "一方で，ローカルネットーワ限定でアクセスできるHTTPサーバをポートフォワードを使ってインターネットに公開できるようにしてくれるサービスがいくつかあります．例えば，\n",
        "\n",
        "- localtunnel\n",
        "- Ngrok\n",
        "\n",
        "などです．\n",
        "\n",
        "noVNC を使って Xvfb 上のデスクトップをブラウザで閲覧できるような HTTPサーバを Colaboratory のマシンのローカルなサーバとして立ち上げ，\n",
        "それを Ngrok を使ってインターネットに公開してみようというわけです．\n",
        "\n",
        "HTTPですので，パソコンだけでなく，スマホやiPad などでもアクセス可能です．\n"
      ]
    },
    {
      "metadata": {
        "id": "wS3y0kByM55V",
        "colab_type": "code",
        "outputId": "130f1625-b5af-4d87-ca63-9be266174019",
        "colab": {
          "base_uri": "https://localhost:8080/",
          "height": 1675
        }
      },
      "cell_type": "code",
      "source": [
        "%%bash\n",
        "#VIRTUALGL_VERSION=2.6.1\n",
        "TURBOVNC_VERSION=2.2.1\n",
        "LIBJPEG_VERSION=2.0.0\n",
        "NOVNC_VERSION=1.0.0\n",
        "WEBSOCKIFY_VERSION=0.8.0\n",
        "ANYDESK_VERSION=4.0.1-1\n",
        "\n",
        "\n",
        "CWD=$(pwd)\n",
        "mkdir -p /opt\n",
        "\n",
        "apt-get update && apt install -y --no-install-recommends libgtkglext1 libpango1.0-0 libpangox-1.0-0\n",
        "\n",
        "# TurboVNC + VirtualGL\n",
        "cd /tmp\n",
        "curl -fsSL -O https://sourceforge.net/projects/turbovnc/files/${TURBOVNC_VERSION}/turbovnc_${TURBOVNC_VERSION}_amd64.deb\n",
        "curl -fsSL -O https://sourceforge.net/projects/libjpeg-turbo/files/${LIBJPEG_VERSION}/libjpeg-turbo-official_${LIBJPEG_VERSION}_amd64.deb\n",
        "#curl -fsSL -O https://sourceforge.net/projects/virtualgl/files/${VIRTUALGL_VERSION}/virtualgl_${VIRTUALGL_VERSION}_amd64.deb\n",
        "curl -fsSL -O https://download.anydesk.com/linux/anydesk_${ANYDESK_VERSION}_amd64.deb\n",
        "\n",
        "dpkg -i *.deb\n",
        "sed -i 's/$host:/unix:/g' /opt/TurboVNC/bin/vncserver\n",
        "rm -f /tmp/*.deb\n",
        "\n",
        "# noVNC\n",
        "curl -fsSL https://github.com/novnc/noVNC/archive/v${NOVNC_VERSION}.tar.gz | tar -xzf - -C /opt \n",
        "curl -fsSL https://github.com/novnc/websockify/archive/v${WEBSOCKIFY_VERSION}.tar.gz | tar -xzf - -C /opt \n",
        "rm -rf /opt/noVNC\n",
        "mv /opt/noVNC-${NOVNC_VERSION} /opt/noVNC\n",
        "rm -rf /opt/websockify\n",
        "mv /opt/websockify-${WEBSOCKIFY_VERSION} /opt/websockify\n",
        "ln -s /opt/noVNC/vnc_lite.html /opt/noVNC/index.html\n",
        "cd /opt/websockify\n",
        "make  > /dev/null\n",
        "\n",
        "# X11\n",
        "apt-get install -y --no-install-recommends \\\n",
        "        ca-certificates \\\n",
        "        curl \\\n",
        "        vim.tiny \\\n",
        "        nano \\\n",
        "        libc6-dev \\\n",
        "        libglu1 \\\n",
        "        libsm6 \\\n",
        "        libxv1 \\\n",
        "        x11-xkb-utils \\\n",
        "        xauth \\\n",
        "        xfonts-base \\\n",
        "        xkb-data \\\n",
        "        openbox \\\n",
        "        xterm \\\n",
        "        scrot \\\n",
        "        xvfb \\\n",
        "        x11vnc \\\n",
        "        xtightvncviewer \\\n",
        "        mesa-utils \\\n",
        "        python-opengl \\\n",
        "    > /dev/null\n",
        "    \n",
        "cd ${CWD}\n",
        "\n",
        "# Xvfb (仮想ディスプレイ)\n",
        "apt-get -q -y install xvfb > /dev/null\n",
        "\n",
        "# Web ブラウザ（Epiphany）\n",
        "add-apt-repository ppa:gnome3-team/gnome3  > /dev/null\n",
        "apt-get update > /dev/null\n",
        "apt-get install epiphany-browser > /dev/null\n",
        "\n",
        "\n",
        "# Ngrok\n",
        "mkdir -p /content/.vnc\n",
        "curl -fsSL -O https://bin.equinox.io/c/4VmDzA7iaHb/ngrok-stable-linux-amd64.zip\n",
        "rm /opt/ngrok\n",
        "unzip -d /opt ngrok-stable-linux-amd64.zip\n",
        "rm ngrok-stable-linux-amd64.zip \n",
        "echo \"web_addr: 4045\" > /content/config.yml"
      ],
      "execution_count": 0,
      "outputs": [
        {
          "output_type": "stream",
          "text": [
            "Hit:1 http://ppa.launchpad.net/graphics-drivers/ppa/ubuntu bionic InRelease\n",
            "Get:2 http://ppa.launchpad.net/marutter/c2d4u3.5/ubuntu bionic InRelease [15.4 kB]\n",
            "Get:3 http://security.ubuntu.com/ubuntu bionic-security InRelease [88.7 kB]\n",
            "Hit:4 http://archive.ubuntu.com/ubuntu bionic InRelease\n",
            "Get:5 https://cloud.r-project.org/bin/linux/ubuntu bionic-cran35/ InRelease [3,609 B]\n",
            "Ign:6 https://developer.download.nvidia.com/compute/cuda/repos/ubuntu1804/x86_64  InRelease\n",
            "Get:7 http://archive.ubuntu.com/ubuntu bionic-updates InRelease [88.7 kB]\n",
            "Ign:8 https://developer.download.nvidia.com/compute/machine-learning/repos/ubuntu1804/x86_64  InRelease\n",
            "Hit:9 https://developer.download.nvidia.com/compute/cuda/repos/ubuntu1804/x86_64  Release\n",
            "Hit:10 https://developer.download.nvidia.com/compute/machine-learning/repos/ubuntu1804/x86_64  Release\n",
            "Get:11 http://ppa.launchpad.net/marutter/c2d4u3.5/ubuntu bionic/main Sources [1,636 kB]\n",
            "Get:12 http://archive.ubuntu.com/ubuntu bionic-backports InRelease [74.6 kB]\n",
            "Get:13 http://ppa.launchpad.net/marutter/c2d4u3.5/ubuntu bionic/main amd64 Packages [786 kB]\n",
            "Get:14 http://security.ubuntu.com/ubuntu bionic-security/main amd64 Packages [379 kB]\n",
            "Get:15 http://security.ubuntu.com/ubuntu bionic-security/universe amd64 Packages [163 kB]\n",
            "Get:16 http://security.ubuntu.com/ubuntu bionic-security/multiverse amd64 Packages [3,915 B]\n",
            "Get:17 https://cloud.r-project.org/bin/linux/ubuntu bionic-cran35/ Packages [60.4 kB]\n",
            "Get:20 http://archive.ubuntu.com/ubuntu bionic-updates/universe amd64 Packages [968 kB]\n",
            "Get:21 http://archive.ubuntu.com/ubuntu bionic-updates/multiverse amd64 Packages [6,968 B]\n",
            "Get:22 http://archive.ubuntu.com/ubuntu bionic-updates/main amd64 Packages [751 kB]\n",
            "Fetched 5,025 kB in 2s (2,433 kB/s)\n",
            "Reading package lists...\n",
            "Reading package lists...\n",
            "Building dependency tree...\n",
            "Reading state information...\n",
            "The following package was automatically installed and is no longer required:\n",
            "  libnvidia-common-410\n",
            "Use 'apt autoremove' to remove it.\n",
            "The following additional packages will be installed:\n",
            "  libgtk2.0-0 libgtk2.0-common libpangoxft-1.0-0\n",
            "Suggested packages:\n",
            "  gvfs\n",
            "Recommended packages:\n",
            "  libgail-common libgtk2.0-bin\n",
            "The following NEW packages will be installed:\n",
            "  libgtk2.0-0 libgtk2.0-common libgtkglext1 libpango1.0-0 libpangox-1.0-0\n",
            "  libpangoxft-1.0-0\n",
            "0 upgraded, 6 newly installed, 0 to remove and 31 not upgraded.\n",
            "Need to get 2,028 kB of archives.\n",
            "After this operation, 6,775 kB of additional disk space will be used.\n",
            "Get:1 http://archive.ubuntu.com/ubuntu bionic/universe amd64 libpangox-1.0-0 amd64 0.0.2-5 [41.7 kB]\n",
            "Get:2 http://archive.ubuntu.com/ubuntu bionic/main amd64 libgtk2.0-common all 2.24.32-1ubuntu1 [125 kB]\n",
            "Get:3 http://archive.ubuntu.com/ubuntu bionic/main amd64 libgtk2.0-0 amd64 2.24.32-1ubuntu1 [1,769 kB]\n",
            "Get:4 http://archive.ubuntu.com/ubuntu bionic/universe amd64 libgtkglext1 amd64 1.2.0-8 [73.9 kB]\n",
            "Get:5 http://archive.ubuntu.com/ubuntu bionic-updates/main amd64 libpangoxft-1.0-0 amd64 1.40.14-1ubuntu0.1 [15.0 kB]\n",
            "Get:6 http://archive.ubuntu.com/ubuntu bionic-updates/universe amd64 libpango1.0-0 amd64 1.40.14-1ubuntu0.1 [3,344 B]\n",
            "Fetched 2,028 kB in 1s (2,338 kB/s)\n",
            "Selecting previously unselected package libpangox-1.0-0:amd64.\r\n",
            "(Reading database ... \r(Reading database ... 5%\r(Reading database ... 10%\r(Reading database ... 15%\r(Reading database ... 20%\r(Reading database ... 25%\r(Reading database ... 30%\r(Reading database ... 35%\r(Reading database ... 40%\r(Reading database ... 45%\r(Reading database ... 50%\r(Reading database ... 55%\r(Reading database ... 60%\r(Reading database ... 65%\r(Reading database ... 70%\r(Reading database ... 75%\r(Reading database ... 80%\r(Reading database ... 85%\r(Reading database ... 90%\r(Reading database ... 95%\r(Reading database ... 100%\r(Reading database ... 131304 files and directories currently installed.)\r\n",
            "Preparing to unpack .../0-libpangox-1.0-0_0.0.2-5_amd64.deb ...\r\n",
            "Unpacking libpangox-1.0-0:amd64 (0.0.2-5) ...\r\n",
            "Selecting previously unselected package libgtk2.0-common.\r\n",
            "Preparing to unpack .../1-libgtk2.0-common_2.24.32-1ubuntu1_all.deb ...\r\n",
            "Unpacking libgtk2.0-common (2.24.32-1ubuntu1) ...\r\n",
            "Selecting previously unselected package libgtk2.0-0:amd64.\r\n",
            "Preparing to unpack .../2-libgtk2.0-0_2.24.32-1ubuntu1_amd64.deb ...\r\n",
            "Unpacking libgtk2.0-0:amd64 (2.24.32-1ubuntu1) ...\r\n",
            "Selecting previously unselected package libgtkglext1:amd64.\r\n",
            "Preparing to unpack .../3-libgtkglext1_1.2.0-8_amd64.deb ...\r\n",
            "Unpacking libgtkglext1:amd64 (1.2.0-8) ...\r\n",
            "Selecting previously unselected package libpangoxft-1.0-0:amd64.\r\n",
            "Preparing to unpack .../4-libpangoxft-1.0-0_1.40.14-1ubuntu0.1_amd64.deb ...\r\n",
            "Unpacking libpangoxft-1.0-0:amd64 (1.40.14-1ubuntu0.1) ...\r\n",
            "Selecting previously unselected package libpango1.0-0:amd64.\r\n",
            "Preparing to unpack .../5-libpango1.0-0_1.40.14-1ubuntu0.1_amd64.deb ...\r\n",
            "Unpacking libpango1.0-0:amd64 (1.40.14-1ubuntu0.1) ...\r\n",
            "Setting up libgtk2.0-common (2.24.32-1ubuntu1) ...\r\n",
            "Setting up libpangoxft-1.0-0:amd64 (1.40.14-1ubuntu0.1) ...\r\n",
            "Processing triggers for libc-bin (2.27-3ubuntu1) ...\r\n",
            "Setting up libpangox-1.0-0:amd64 (0.0.2-5) ...\r\n",
            "Setting up libgtk2.0-0:amd64 (2.24.32-1ubuntu1) ...\r\n",
            "Setting up libpango1.0-0:amd64 (1.40.14-1ubuntu0.1) ...\r\n",
            "Setting up libgtkglext1:amd64 (1.2.0-8) ...\r\n",
            "Processing triggers for libc-bin (2.27-3ubuntu1) ...\r\n",
            "Selecting previously unselected package anydesk.\n",
            "(Reading database ... 131378 files and directories currently installed.)\n",
            "Preparing to unpack anydesk_4.0.1-1_amd64.deb ...\n",
            "Unpacking anydesk (4.0.1-1) ...\n",
            "Selecting previously unselected package libjpeg-turbo-official.\n",
            "Preparing to unpack libjpeg-turbo-official_2.0.0_amd64.deb ...\n",
            "Unpacking libjpeg-turbo-official (2.0.0-20180727) ...\n",
            "Selecting previously unselected package turbovnc.\n",
            "Preparing to unpack turbovnc_2.2.1_amd64.deb ...\n",
            "Unpacking turbovnc (2.2.1-20190102) ...\n",
            "Setting up anydesk (4.0.1-1) ...\n",
            "Setting up libjpeg-turbo-official (2.0.0-20180727) ...\n",
            "Setting up turbovnc (2.2.1-20190102) ...\n",
            "Processing triggers for mime-support (3.60ubuntu1) ...\n",
            "Processing triggers for hicolor-icon-theme (0.17-2) ...\n",
            "Processing triggers for systemd (237-3ubuntu10.17) ...\n",
            "Archive:  ngrok-stable-linux-amd64.zip\n",
            "  inflating: /opt/ngrok              \n"
          ],
          "name": "stdout"
        },
        {
          "output_type": "stream",
          "text": [
            "\n",
            "WARNING: apt does not have a stable CLI interface. Use with caution in scripts.\n",
            "\n",
            "rm: cannot remove '/opt/ngrok': No such file or directory\n"
          ],
          "name": "stderr"
        }
      ]
    },
    {
      "metadata": {
        "id": "2mzWJ7sERAof",
        "colab_type": "text"
      },
      "cell_type": "markdown",
      "source": [
        "# VNC 起動"
      ]
    },
    {
      "metadata": {
        "id": "lLanG356Nyj3",
        "colab_type": "code",
        "outputId": "44aa4ff8-ba30-4821-d8ca-cab1189a4868",
        "colab": {
          "base_uri": "https://localhost:8080/",
          "height": 35
        }
      },
      "cell_type": "code",
      "source": [
        "import os\n",
        "os.environ['PATH'] += \"/opt/TurboVNC/bin\"\n",
        "\n",
        "!kill $(ps ax | grep websockify | grep -v grep | awk '{ print $1 }') >/dev/null\n",
        "!pkill ngrok\n",
        "!pkill vncserver\n",
        "!pkill Xvnc\n",
        "# !pkill Xvfb\n",
        "!pkill x11vnc\n",
        "\n",
        "! timeout 5 /opt/websockify/run 5901 --web=/opt/noVNC --wrap-mode=ignore -- /opt/TurboVNC/bin/vncserver :1 -securitytypes otp -otp -noxstartup 2>/dev/null\n",
        "get_ipython().system_raw('python /opt/websockify/run 5901 --web=/opt/noVNC --wrap-mode=ignore -- /opt/TurboVNC/bin/vncserver :1 -securitytypes otp -otp -noxstartup > /content/.vnc/stdout 2>&1 &')\n",
        "get_ipython().system_raw('/opt/ngrok http -config=/content/config.yml 5901 &')\n",
        "! sleep 1\n",
        "get_ipython().system_raw('DISPLAY=:1 openbox &')\n",
        "get_ipython().system_raw('DISPLAY=:1 jupyter notebook &')\n",
        "get_ipython().system_raw('DISPLAY=:1 epiphany http://localhost:8888 &')\n",
        "get_ipython().system_raw('DISPLAY=:1 xterm &')\n",
        "get_ipython().system_raw('DISPLAY=:1 anydesk &')\n"
      ],
      "execution_count": 0,
      "outputs": [
        {
          "output_type": "stream",
          "text": [
            "kill: usage: kill [-s sigspec | -n signum | -sigspec] pid | jobspec ... or kill -l [sigspec]\n"
          ],
          "name": "stdout"
        }
      ]
    },
    {
      "metadata": {
        "id": "BpXoXAATZP8K",
        "colab_type": "text"
      },
      "cell_type": "markdown",
      "source": [
        "# noVNC転送\n",
        "表示された URL にアクセスし，表示されているパスワードで仮想デスクトップにアクセス"
      ]
    },
    {
      "metadata": {
        "id": "bOjxfHN1YRTE",
        "colab_type": "code",
        "outputId": "483ee507-8172-4fdc-8889-3160b5054475",
        "colab": {
          "base_uri": "https://localhost:8080/",
          "height": 52
        }
      },
      "cell_type": "code",
      "source": [
        "!grep \"one-time password:\" /content/.vnc/stdout\n",
        "\n",
        "import requests\n",
        "import json\n",
        "r = requests.get(\"http://localhost:4045/api/tunnels\", headers={\"content-type\": \"application/json\"})\n",
        "print(r.json()['tunnels'][0]['public_url'])"
      ],
      "execution_count": 0,
      "outputs": [
        {
          "output_type": "stream",
          "text": [
            "Full control one-time password: 42185720\n",
            "http://069b561d.ngrok.io\n"
          ],
          "name": "stdout"
        }
      ]
    },
    {
      "metadata": {
        "id": "mga9ywadfk1j",
        "colab_type": "code",
        "colab": {}
      },
      "cell_type": "code",
      "source": [
        ""
      ],
      "execution_count": 0,
      "outputs": []
    }
  ]
}