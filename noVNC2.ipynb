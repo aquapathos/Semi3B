{
  "nbformat": 4,
  "nbformat_minor": 0,
  "metadata": {
    "colab": {
      "name": "noVNC2.ipynb",
      "version": "0.3.2",
      "provenance": [],
      "collapsed_sections": [],
      "toc_visible": true,
      "include_colab_link": true
    },
    "kernelspec": {
      "name": "python3",
      "display_name": "Python 3"
    }
  },
  "cells": [
    {
      "cell_type": "markdown",
      "metadata": {
        "id": "view-in-github",
        "colab_type": "text"
      },
      "source": [
        "<a href=\"https://colab.research.google.com/github/aquapathos/Semi3B/blob/master/noVNC2.ipynb\" target=\"_parent\"><img src=\"https://colab.research.google.com/assets/colab-badge.svg\" alt=\"Open In Colab\"/></a>"
      ]
    },
    {
      "metadata": {
        "id": "PAagFWqv2YeT",
        "colab_type": "text"
      },
      "cell_type": "markdown",
      "source": [
        "# Google Colab を GUI で利用する方法\n",
        "\n",
        " ## 概要\n",
        " - 仮想ディスプレイ上で  X11 を起動し，anydeskによって遠隔利用\n",
        " \n",
        " ## 目的\n",
        " - ウィンドウ表示やマウス操作など，GUIを使う  python プログラムを動作させること．\n",
        " \n",
        " ## 利用方法\n",
        "1. 最後まで実行\n",
        "2. 最後にアクセス用URLとパスワードが表示されるのでブラウザでアクセス．\n",
        "   anydesk が起動しているので，アクセスIDをメモ\n",
        "3. アクセス用デバイスで anydesk を起動し，メモしたアクセスIDで接続\n",
        " \n",
        " ### 補足\n",
        "これと同等の，notebook だけで実行できるコードを，[noVNC.ipynb](https://github.com/aquapathos/Semi3B/blob/master/noVNC.ipynb) に書いたが，シェルコマンドでの作業を\n",
        "\n",
        "- '[**prepareX.sh**](https://github.com/aquapathos/Semi3B/blob/master/prepareX.sh)\n",
        "\n",
        "に抜き出し，これを読み込んで実行するように書き直した．\n",
        "\n",
        "\n"
      ]
    },
    {
      "metadata": {
        "id": "x1CFRjldr8Cc",
        "colab_type": "code",
        "colab": {}
      },
      "cell_type": "code",
      "source": [
        "%cd /tmp\n",
        "!rm /tmp/prepareX.sh \n",
        "!wget https://raw.githubusercontent.com/aquapathos/Semi3B/master/prepareX.sh\n",
        "!chmod a+x  /tmp/prepareX.sh\n",
        "!/tmp/prepareX.sh"
      ],
      "execution_count": 0,
      "outputs": []
    },
    {
      "metadata": {
        "id": "Vpk2iqjEMbfu",
        "colab_type": "text"
      },
      "cell_type": "markdown",
      "source": [
        "# パス設定"
      ]
    },
    {
      "metadata": {
        "id": "sRk8eqZeuu4J",
        "colab_type": "code",
        "colab": {}
      },
      "cell_type": "code",
      "source": [
        "import os\n",
        "os.environ['PATH'] += \"/opt/TurboVNC/bin\"\n",
        "!mkdir -p /content/.vnc"
      ],
      "execution_count": 0,
      "outputs": []
    },
    {
      "metadata": {
        "id": "Z3I__g46MOoa",
        "colab_type": "text"
      },
      "cell_type": "markdown",
      "source": [
        "# noVNC セッションの開始"
      ]
    },
    {
      "metadata": {
        "id": "7SwnsECweSJ_",
        "colab_type": "code",
        "cellView": "both",
        "colab": {}
      },
      "cell_type": "code",
      "source": [
        "#@title\n",
        "%cd /content\n",
        "!kill $(ps ax | grep websockify | grep -v grep | awk '{ print $1 }') >/dev/null\n",
        "!pkill ngrok\n",
        "!pkill vncserver\n",
        "!pkill Xvnc\n",
        "#!pkill Xvfb\n",
        "!pkill x11vnc\n",
        "\n",
        "! timeout 5 /opt/websockify/run 5901 --web=/opt/noVNC --wrap-mode=ignore -- /opt/TurboVNC/bin/vncserver :1 -securitytypes otp -otp -noxstartup 2>/dev/null\n",
        "get_ipython().system_raw('python /opt/websockify/run 5901 --web=/opt/noVNC --wrap-mode=ignore -- /opt/TurboVNC/bin/vncserver :1 -securitytypes otp -otp -noxstartup > /content/.vnc/stdout 2>&1 &')\n",
        "get_ipython().system_raw('/opt/ngrok http -config=/content/config.yml 5901 &')\n",
        "! sleep 1\n",
        "get_ipython().system_raw('DISPLAY=:1 openbox &')\n",
        "get_ipython().system_raw('DISPLAY=:1 jupyter notebook &')\n",
        "get_ipython().system_raw('DISPLAY=:1 epiphany http://localhost:8888 &')\n",
        "get_ipython().system_raw('DISPLAY=:1 xterm &')\n",
        "get_ipython().system_raw('DISPLAY=:1 anydesk &')\n",
        "\n",
        "!grep \"one-time password:\" /content/.vnc/stdout\n",
        "\n",
        "import requests\n",
        "import json\n",
        "r = requests.get(\"http://localhost:4045/api/tunnels\", headers={\"content-type\": \"application/json\"})\n",
        "print(r.json()['tunnels'][0]['public_url'])"
      ],
      "execution_count": 0,
      "outputs": []
    },
    {
      "metadata": {
        "id": "MKgXoOiFOXtC",
        "colab_type": "text"
      },
      "cell_type": "markdown",
      "source": [
        "# テストプログラム"
      ]
    },
    {
      "metadata": {
        "id": "fanS55PiCAoq",
        "colab_type": "code",
        "colab": {}
      },
      "cell_type": "code",
      "source": [
        "!curl -fsSL -O https://gist.githubusercontent.com/aquapathos/94ab03a7e84a58695289c5b9a70110fa/raw/d3bfc29bd02cb276c401ee966a319b3a18749b97/l0041-color_som-1.ipynb"
      ],
      "execution_count": 0,
      "outputs": []
    },
    {
      "metadata": {
        "id": "jNDAIU5uOcaD",
        "colab_type": "code",
        "colab": {}
      },
      "cell_type": "code",
      "source": [
        "!curl -fsSL -O https://gist.githubusercontent.com/aquapathos/e7bb81a3bdd1a97f9337df4bc493a15a/raw/67cee05076de1552bb5bcce315e4dd503b06ba0a/Fake+Painter.ipynb"
      ],
      "execution_count": 0,
      "outputs": []
    }
  ]
}