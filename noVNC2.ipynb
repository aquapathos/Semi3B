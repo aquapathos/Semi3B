{
  "nbformat": 4,
  "nbformat_minor": 0,
  "metadata": {
    "colab": {
      "name": "noVNC2.ipynb",
      "version": "0.3.2",
      "provenance": [],
      "collapsed_sections": [],
      "toc_visible": true,
      "include_colab_link": true
    },
    "kernelspec": {
      "name": "python3",
      "display_name": "Python 3"
    },
    "accelerator": "GPU"
  },
  "cells": [
    {
      "cell_type": "markdown",
      "metadata": {
        "id": "view-in-github",
        "colab_type": "text"
      },
      "source": [
        "<a href=\"https://colab.research.google.com/github/aquapathos/Semi3B/blob/master/noVNC2.ipynb\" target=\"_parent\"><img src=\"https://colab.research.google.com/assets/colab-badge.svg\" alt=\"Open In Colab\"/></a>"
      ]
    },
    {
      "metadata": {
        "id": "PAagFWqv2YeT",
        "colab_type": "text"
      },
      "cell_type": "markdown",
      "source": [
        "# Google Colab を GUI で利用する方法\n",
        "\n",
        " ## 概要\n",
        " - 仮想ディスプレイ上で  X11 を起動し，anydeskによって遠隔利用\n",
        " \n",
        " ## 目的\n",
        " - ウィンドウ表示やマウス操作など，GUIを使う  python プログラムを動作させること．\n",
        " \n",
        " ## 利用方法\n",
        "1. 最後まで実行\n",
        "2. 最後にアクセス用URLとパスワードが表示されるのでブラウザでアクセス．\n",
        "   anydesk が起動しているので，アクセスIDをメモ\n",
        "3. アクセス用デバイスで anydesk を起動し，メモしたアクセスIDで接続\n",
        " \n",
        " ### 補足\n",
        "これと同等の，notebook だけで実行できるコードを，[noVNC.ipynb](https://github.com/aquapathos/Semi3B/blob/master/noVNC.ipynb) に書いたが，シェルコマンドでの作業を\n",
        "\n",
        "- '[**prepareX.sh**](https://github.com/aquapathos/Semi3B/blob/master/prepareX.sh)\n",
        "\n",
        "に抜き出し，これを読み込んで実行するように書き直した．\n",
        "\n",
        "\n"
      ]
    },
    {
      "metadata": {
        "id": "x1CFRjldr8Cc",
        "colab_type": "code",
        "outputId": "39f21d1a-f607-42b1-f79a-cf03b169db63",
        "colab": {
          "base_uri": "https://localhost:8080/",
          "height": 2079
        }
      },
      "cell_type": "code",
      "source": [
        "%cd /tmp\n",
        "!rm /tmp/prepareX.sh \n",
        "!wget https://raw.githubusercontent.com/aquapathos/Semi3B/master/prepareX.sh\n",
        "!chmod a+x  /tmp/prepareX.sh\n",
        "!/tmp/prepareX.sh"
      ],
      "execution_count": 0,
      "outputs": [
        {
          "output_type": "stream",
          "text": [
            "/tmp\n",
            "rm: cannot remove '/tmp/prepareX.sh': No such file or directory\n",
            "--2019-04-29 11:27:05--  https://raw.githubusercontent.com/aquapathos/Semi3B/master/prepareX.sh\n",
            "Resolving raw.githubusercontent.com (raw.githubusercontent.com)... 151.101.0.133, 151.101.64.133, 151.101.128.133, ...\n",
            "Connecting to raw.githubusercontent.com (raw.githubusercontent.com)|151.101.0.133|:443... connected.\n",
            "HTTP request sent, awaiting response... 200 OK\n",
            "Length: 2447 (2.4K) [text/plain]\n",
            "Saving to: ‘prepareX.sh’\n",
            "\n",
            "prepareX.sh         100%[===================>]   2.39K  --.-KB/s    in 0s      \n",
            "\n",
            "2019-04-29 11:27:06 (32.0 MB/s) - ‘prepareX.sh’ saved [2447/2447]\n",
            "\n",
            "Get:1 https://cloud.r-project.org/bin/linux/ubuntu bionic-cran35/ InRelease [3,609 B]\n",
            "Ign:2 https://developer.download.nvidia.com/compute/cuda/repos/ubuntu1804/x86_64  InRelease\n",
            "Ign:3 https://developer.download.nvidia.com/compute/machine-learning/repos/ubuntu1804/x86_64  InRelease\n",
            "Hit:4 https://developer.download.nvidia.com/compute/cuda/repos/ubuntu1804/x86_64  Release\n",
            "Get:5 https://developer.download.nvidia.com/compute/machine-learning/repos/ubuntu1804/x86_64  Release [564 B]\n",
            "Get:6 https://developer.download.nvidia.com/compute/machine-learning/repos/ubuntu1804/x86_64  Release.gpg [801 B]\n",
            "Get:8 http://security.ubuntu.com/ubuntu bionic-security InRelease [88.7 kB]\n",
            "Hit:9 http://archive.ubuntu.com/ubuntu bionic InRelease\n",
            "Get:10 https://cloud.r-project.org/bin/linux/ubuntu bionic-cran35/ Packages [67.5 kB]\n",
            "Get:11 https://developer.download.nvidia.com/compute/machine-learning/repos/ubuntu1804/x86_64  Packages [7,590 B]\n",
            "Get:12 http://ppa.launchpad.net/graphics-drivers/ppa/ubuntu bionic InRelease [21.3 kB]\n",
            "Get:13 http://archive.ubuntu.com/ubuntu bionic-updates InRelease [88.7 kB]\n",
            "Get:14 http://ppa.launchpad.net/marutter/c2d4u3.5/ubuntu bionic InRelease [15.4 kB]\n",
            "Get:15 http://security.ubuntu.com/ubuntu bionic-security/main amd64 Packages [416 kB]\n",
            "Get:16 http://archive.ubuntu.com/ubuntu bionic-backports InRelease [74.6 kB]\n",
            "Get:17 http://ppa.launchpad.net/graphics-drivers/ppa/ubuntu bionic/main amd64 Packages [33.4 kB]\n",
            "Get:18 http://archive.ubuntu.com/ubuntu bionic-updates/universe amd64 Packages [1,106 kB]\n",
            "Get:19 http://security.ubuntu.com/ubuntu bionic-security/multiverse amd64 Packages [4,171 B]\n",
            "Get:20 http://security.ubuntu.com/ubuntu bionic-security/universe amd64 Packages [304 kB]\n",
            "Get:21 http://ppa.launchpad.net/marutter/c2d4u3.5/ubuntu bionic/main Sources [1,639 kB]\n",
            "Get:22 http://archive.ubuntu.com/ubuntu bionic-updates/multiverse amd64 Packages [7,238 B]\n",
            "Get:23 http://archive.ubuntu.com/ubuntu bionic-updates/main amd64 Packages [775 kB]\n",
            "Get:24 http://archive.ubuntu.com/ubuntu bionic-backports/universe amd64 Packages [3,652 B]\n",
            "Get:25 http://ppa.launchpad.net/marutter/c2d4u3.5/ubuntu bionic/main amd64 Packages [788 kB]\n",
            "Fetched 5,445 kB in 9s (608 kB/s)\n",
            "Reading package lists... Done\n",
            "Reading package lists... Done\n",
            "Building dependency tree       \n",
            "Reading state information... Done\n",
            "The following package was automatically installed and is no longer required:\n",
            "  libnvidia-common-410\n",
            "Use 'apt autoremove' to remove it.\n",
            "The following additional packages will be installed:\n",
            "  libgtk2.0-0 libgtk2.0-common libpangoxft-1.0-0\n",
            "Suggested packages:\n",
            "  gvfs\n",
            "Recommended packages:\n",
            "  libgail-common libgtk2.0-bin\n",
            "The following NEW packages will be installed:\n",
            "  libgtk2.0-0 libgtk2.0-common libgtkglext1 libpango1.0-0 libpangox-1.0-0\n",
            "  libpangoxft-1.0-0\n",
            "0 upgraded, 6 newly installed, 0 to remove and 53 not upgraded.\n",
            "Need to get 2,028 kB of archives.\n",
            "After this operation, 6,775 kB of additional disk space will be used.\n",
            "Get:1 http://archive.ubuntu.com/ubuntu bionic/universe amd64 libpangox-1.0-0 amd64 0.0.2-5 [41.7 kB]\n",
            "Get:2 http://archive.ubuntu.com/ubuntu bionic/main amd64 libgtk2.0-common all 2.24.32-1ubuntu1 [125 kB]\n",
            "Get:3 http://archive.ubuntu.com/ubuntu bionic/main amd64 libgtk2.0-0 amd64 2.24.32-1ubuntu1 [1,769 kB]\n",
            "Get:4 http://archive.ubuntu.com/ubuntu bionic/universe amd64 libgtkglext1 amd64 1.2.0-8 [73.9 kB]\n",
            "Get:5 http://archive.ubuntu.com/ubuntu bionic-updates/main amd64 libpangoxft-1.0-0 amd64 1.40.14-1ubuntu0.1 [15.0 kB]\n",
            "Get:6 http://archive.ubuntu.com/ubuntu bionic-updates/universe amd64 libpango1.0-0 amd64 1.40.14-1ubuntu0.1 [3,344 B]\n",
            "Fetched 2,028 kB in 3s (672 kB/s)\n",
            "Selecting previously unselected package libpangox-1.0-0:amd64.\n",
            "(Reading database ... 131304 files and directories currently installed.)\n",
            "Preparing to unpack .../0-libpangox-1.0-0_0.0.2-5_amd64.deb ...\n",
            "Unpacking libpangox-1.0-0:amd64 (0.0.2-5) ...\n",
            "Selecting previously unselected package libgtk2.0-common.\n",
            "Preparing to unpack .../1-libgtk2.0-common_2.24.32-1ubuntu1_all.deb ...\n",
            "Unpacking libgtk2.0-common (2.24.32-1ubuntu1) ...\n",
            "Selecting previously unselected package libgtk2.0-0:amd64.\n",
            "Preparing to unpack .../2-libgtk2.0-0_2.24.32-1ubuntu1_amd64.deb ...\n",
            "Unpacking libgtk2.0-0:amd64 (2.24.32-1ubuntu1) ...\n",
            "Selecting previously unselected package libgtkglext1:amd64.\n",
            "Preparing to unpack .../3-libgtkglext1_1.2.0-8_amd64.deb ...\n",
            "Unpacking libgtkglext1:amd64 (1.2.0-8) ...\n",
            "Selecting previously unselected package libpangoxft-1.0-0:amd64.\n",
            "Preparing to unpack .../4-libpangoxft-1.0-0_1.40.14-1ubuntu0.1_amd64.deb ...\n",
            "Unpacking libpangoxft-1.0-0:amd64 (1.40.14-1ubuntu0.1) ...\n",
            "Selecting previously unselected package libpango1.0-0:amd64.\n",
            "Preparing to unpack .../5-libpango1.0-0_1.40.14-1ubuntu0.1_amd64.deb ...\n",
            "Unpacking libpango1.0-0:amd64 (1.40.14-1ubuntu0.1) ...\n",
            "Setting up libgtk2.0-common (2.24.32-1ubuntu1) ...\n",
            "Setting up libpangoxft-1.0-0:amd64 (1.40.14-1ubuntu0.1) ...\n",
            "Processing triggers for libc-bin (2.27-3ubuntu1) ...\n",
            "Setting up libpangox-1.0-0:amd64 (0.0.2-5) ...\n",
            "Setting up libgtk2.0-0:amd64 (2.24.32-1ubuntu1) ...\n",
            "Setting up libpango1.0-0:amd64 (1.40.14-1ubuntu0.1) ...\n",
            "Setting up libgtkglext1:amd64 (1.2.0-8) ...\n",
            "Processing triggers for libc-bin (2.27-3ubuntu1) ...\n",
            "Selecting previously unselected package anydesk.\n",
            "(Reading database ... 131378 files and directories currently installed.)\n",
            "Preparing to unpack anydesk_4.0.1-1_amd64.deb ...\n",
            "Unpacking anydesk (4.0.1-1) ...\n",
            "Selecting previously unselected package libjpeg-turbo-official.\n",
            "Preparing to unpack libjpeg-turbo-official_2.0.0_amd64.deb ...\n",
            "Unpacking libjpeg-turbo-official (2.0.0-20180727) ...\n",
            "Selecting previously unselected package turbovnc.\n",
            "Preparing to unpack turbovnc_2.2.1_amd64.deb ...\n",
            "Unpacking turbovnc (2.2.1-20190102) ...\n",
            "Setting up anydesk (4.0.1-1) ...\n",
            "Setting up libjpeg-turbo-official (2.0.0-20180727) ...\n",
            "Setting up turbovnc (2.2.1-20190102) ...\n",
            "Processing triggers for mime-support (3.60ubuntu1) ...\n",
            "Processing triggers for hicolor-icon-theme (0.17-2) ...\n",
            "Processing triggers for systemd (237-3ubuntu10.17) ...\n",
            "\n",
            "WARNING: apt does not have a stable CLI interface. Use with caution in scripts.\n",
            "\n",
            "Extracting templates from packages: 100%\n",
            "Extracting templates from packages: 100%\n",
            "rm: cannot remove '/opt/ngrok': No such file or directory\n",
            "Archive:  ngrok-stable-linux-amd64.zip\n",
            "  inflating: /opt/ngrok              \n",
            "/tmp/prepareX.sh: line 87: xmodmap: command not found\n"
          ],
          "name": "stdout"
        }
      ]
    },
    {
      "metadata": {
        "id": "Vpk2iqjEMbfu",
        "colab_type": "text"
      },
      "cell_type": "markdown",
      "source": [
        "# パス設定"
      ]
    },
    {
      "metadata": {
        "id": "sRk8eqZeuu4J",
        "colab_type": "code",
        "colab": {}
      },
      "cell_type": "code",
      "source": [
        "import os\n",
        "os.environ['PATH'] += \"/opt/TurboVNC/bin\"\n",
        "!mkdir -p /content/.vnc"
      ],
      "execution_count": 0,
      "outputs": []
    },
    {
      "metadata": {
        "id": "Z3I__g46MOoa",
        "colab_type": "text"
      },
      "cell_type": "markdown",
      "source": [
        "# noVNC セッションの開始"
      ]
    },
    {
      "metadata": {
        "id": "7SwnsECweSJ_",
        "colab_type": "code",
        "cellView": "both",
        "outputId": "da28fed3-8117-465a-f79e-7b18ac6bab80",
        "colab": {
          "base_uri": "https://localhost:8080/",
          "height": 88
        }
      },
      "cell_type": "code",
      "source": [
        "#@title\n",
        "%cd /content\n",
        "!kill $(ps ax | grep websockify | grep -v grep | awk '{ print $1 }') >/dev/null\n",
        "!pkill ngrok\n",
        "!pkill vncserver\n",
        "!pkill Xvnc\n",
        "#!pkill Xvfb\n",
        "!pkill anydesk\n",
        "!pkill x11vnc\n",
        "\n",
        "! timeout 5 /opt/websockify/run 5901 --web=/opt/noVNC --wrap-mode=ignore -- /opt/TurboVNC/bin/vncserver :1 -securitytypes otp -otp -noxstartup 2>/dev/null\n",
        "get_ipython().system_raw('python /opt/websockify/run 5901 --web=/opt/noVNC --wrap-mode=ignore -- /opt/TurboVNC/bin/vncserver :1 -securitytypes otp -otp -noxstartup > /content/.vnc/stdout 2>&1 &')\n",
        "get_ipython().system_raw('/opt/ngrok http -config=/content/config.yml 5901 &')\n",
        "! sleep 1\n",
        "# get_ipython().system_raw('DISPLAY=:1 openbox &')\n",
        "get_ipython().system_raw('DISPLAY=:1 startxfce4 &')\n",
        "get_ipython().system_raw('DISPLAY=:1 jupyter notebook &')\n",
        "get_ipython().system_raw('DISPLAY=:1 epiphany http://localhost:8888 &')\n",
        "get_ipython().system_raw('DISPLAY=:1 xterm &')\n",
        "get_ipython().system_raw('DISPLAY=:1 anydesk &')\n",
        "\n",
        "!grep \"one-time password:\" /content/.vnc/stdout\n",
        "\n",
        "import requests\n",
        "import json\n",
        "r = requests.get(\"http://localhost:4045/api/tunnels\", headers={\"content-type\": \"application/json\"})\n",
        "print(r.json()['tunnels'][0]['public_url'])"
      ],
      "execution_count": 0,
      "outputs": [
        {
          "output_type": "stream",
          "text": [
            "/content\n",
            "kill: usage: kill [-s sigspec | -n signum | -sigspec] pid | jobspec ... or kill -l [sigspec]\n",
            "Full control one-time password: 87731435\n",
            "https://708e105d.ngrok.io\n"
          ],
          "name": "stdout"
        }
      ]
    },
    {
      "metadata": {
        "id": "qIzfem6u8OSz",
        "colab_type": "code",
        "colab": {}
      },
      "cell_type": "code",
      "source": [
        ""
      ],
      "execution_count": 0,
      "outputs": []
    },
    {
      "metadata": {
        "id": "MKgXoOiFOXtC",
        "colab_type": "text"
      },
      "cell_type": "markdown",
      "source": [
        "# テストプログラム"
      ]
    },
    {
      "metadata": {
        "id": "fanS55PiCAoq",
        "colab_type": "code",
        "colab": {}
      },
      "cell_type": "code",
      "source": [
        "!curl -fsSL -O https://gist.githubusercontent.com/aquapathos/94ab03a7e84a58695289c5b9a70110fa/raw/d3bfc29bd02cb276c401ee966a319b3a18749b97/l0041-color_som-1.ipynb"
      ],
      "execution_count": 0,
      "outputs": []
    },
    {
      "metadata": {
        "id": "jNDAIU5uOcaD",
        "colab_type": "code",
        "colab": {}
      },
      "cell_type": "code",
      "source": [
        "!curl -fsSL -O https://gist.githubusercontent.com/aquapathos/e7bb81a3bdd1a97f9337df4bc493a15a/raw/67cee05076de1552bb5bcce315e4dd503b06ba0a/Fake+Painter.ipynb"
      ],
      "execution_count": 0,
      "outputs": []
    }
  ]
}