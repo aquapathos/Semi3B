{
  "nbformat": 4,
  "nbformat_minor": 0,
  "metadata": {
    "colab": {
      "name": "noVNC2.ipynb",
      "version": "0.3.2",
      "provenance": [],
      "collapsed_sections": [],
      "toc_visible": true,
      "include_colab_link": true
    },
    "kernelspec": {
      "name": "python3",
      "display_name": "Python 3"
    },
    "accelerator": "GPU"
  },
  "cells": [
    {
      "cell_type": "markdown",
      "metadata": {
        "id": "view-in-github",
        "colab_type": "text"
      },
      "source": [
        "<a href=\"https://colab.research.google.com/github/aquapathos/Semi3B/blob/master/noVNC2.ipynb\" target=\"_parent\"><img src=\"https://colab.research.google.com/assets/colab-badge.svg\" alt=\"Open In Colab\"/></a>"
      ]
    },
    {
      "cell_type": "markdown",
      "metadata": {
        "id": "PAagFWqv2YeT",
        "colab_type": "text"
      },
      "source": [
        "# Google Colab を GUI で利用する方法\n",
        "\n",
        " ## 概要\n",
        " - 仮想ディスプレイ上で  X11 を起動し，anydeskによって遠隔利用\n",
        " \n",
        " ## 目的\n",
        " - ウィンドウ表示やマウス操作など，GUIを使う  python プログラムを動作させること．\n",
        " \n",
        " ## 利用方法\n",
        "1. 最後まで実行\n",
        "2. 最後にアクセス用URLとパスワードが表示されるのでブラウザでアクセス．\n",
        "   anydesk が起動しているので，アクセスIDをメモ\n",
        "3. アクセス用デバイスで anydesk を起動し，メモしたアクセスIDで接続\n",
        " \n",
        " ### 補足\n",
        "これと同等の，notebook だけで実行できるコードを，[noVNC.ipynb](https://github.com/aquapathos/Semi3B/blob/master/noVNC.ipynb) に書いたが，シェルコマンドでの作業を\n",
        "\n",
        "- '[**prepareX.sh**](https://github.com/aquapathos/Semi3B/blob/master/prepareX.sh)\n",
        "\n",
        "に抜き出し，これを読み込んで実行するように書き直した．\n",
        "\n",
        "\n"
      ]
    },
    {
      "cell_type": "code",
      "metadata": {
        "id": "x1CFRjldr8Cc",
        "colab_type": "code",
        "outputId": "ddf8de0b-497e-4010-938f-b07cc9cabdde",
        "colab": {
          "base_uri": "https://localhost:8080/",
          "height": 924
        }
      },
      "source": [
        "# パス設定\n",
        "import os\n",
        "os.environ['PATH'] += \"/opt/TurboVNC/bin\"\n",
        "!mkdir -p /content/.vnc\n",
        "\n",
        "%cd /tmp\n",
        "!rm /tmp/prepareX.sh\n",
        "!mkdir -p /content/.vnc\n",
        "!curl -fsSL -o prepareX.sh https://raw.githubusercontent.com/aquapathos/Semi3B/master/prepareX.sh\n",
        "!chmod a+x  /tmp/prepareX.sh\n",
        "!/tmp/prepareX.sh"
      ],
      "execution_count": 9,
      "outputs": [
        {
          "output_type": "stream",
          "text": [
            "/tmp\n",
            "Hit:1 https://cloud.r-project.org/bin/linux/ubuntu bionic-cran35/ InRelease\n",
            "Ign:2 https://developer.download.nvidia.com/compute/cuda/repos/ubuntu1804/x86_64  InRelease\n",
            "Get:3 http://security.ubuntu.com/ubuntu bionic-security InRelease [88.7 kB]\n",
            "Hit:4 http://archive.ubuntu.com/ubuntu bionic InRelease\n",
            "Ign:5 https://developer.download.nvidia.com/compute/machine-learning/repos/ubuntu1804/x86_64  InRelease\n",
            "Hit:6 https://developer.download.nvidia.com/compute/cuda/repos/ubuntu1804/x86_64  Release\n",
            "Hit:7 https://developer.download.nvidia.com/compute/machine-learning/repos/ubuntu1804/x86_64  Release\n",
            "Get:8 http://archive.ubuntu.com/ubuntu bionic-updates InRelease [88.7 kB]\n",
            "Hit:9 http://ppa.launchpad.net/gnome3-team/gnome3/ubuntu bionic InRelease\n",
            "Hit:12 http://ppa.launchpad.net/graphics-drivers/ppa/ubuntu bionic InRelease\n",
            "Get:13 http://archive.ubuntu.com/ubuntu bionic-backports InRelease [74.6 kB]\n",
            "Hit:14 http://ppa.launchpad.net/marutter/c2d4u3.5/ubuntu bionic InRelease\n",
            "Fetched 252 kB in 2s (110 kB/s)\n",
            "Reading package lists... Done\n",
            "Building dependency tree       \n",
            "Reading state information... Done\n",
            "58 packages can be upgraded. Run 'apt list --upgradable' to see them.\n",
            "Reading package lists...\n",
            "Building dependency tree...\n",
            "Reading state information...\n",
            "libgtk2.0-0 is already the newest version (2.24.32-1ubuntu1).\n",
            "libgtkglext1 is already the newest version (1.2.0-8).\n",
            "libpangox-1.0-0 is already the newest version (0.0.2-5).\n",
            "libpango1.0-0 is already the newest version (1.40.14-1ubuntu0.1).\n",
            "The following package was automatically installed and is no longer required:\n",
            "  libnvidia-common-410\n",
            "Use 'apt autoremove' to remove it.\n",
            "0 upgraded, 0 newly installed, 0 to remove and 58 not upgraded.\n",
            "(Reading database ... 174504 files and directories currently installed.)\n",
            "Preparing to unpack anydesk_4.0.1-1_amd64.deb ...\n",
            "Unpacking anydesk (4.0.1-1) over (4.0.1-1) ...\n",
            "Preparing to unpack libjpeg-turbo-official_2.0.2_amd64.deb ...\n",
            "Unpacking libjpeg-turbo-official (2.0.2-20190213) over (2.0.2-20190213) ...\n",
            "Preparing to unpack turbovnc_2.2.1_amd64.deb ...\n",
            "Unpacking turbovnc (2.2.1-20190102) over (2.2.1-20190102) ...\n",
            "Setting up anydesk (4.0.1-1) ...\n",
            "Setting up libjpeg-turbo-official (2.0.2-20190213) ...\n",
            "Setting up turbovnc (2.2.1-20190102) ...\n",
            "Processing triggers for desktop-file-utils (0.23-1ubuntu3.18.04.2) ...\n",
            "Processing triggers for mime-support (3.60ubuntu1) ...\n",
            "Processing triggers for hicolor-icon-theme (0.17-2) ...\n",
            "Processing triggers for systemd (237-3ubuntu10.21) ...\n",
            "\n",
            "WARNING: apt does not have a stable CLI interface. Use with caution in scripts.\n",
            "\n",
            "\n",
            "WARNING: apt does not have a stable CLI interface. Use with caution in scripts.\n",
            "\n",
            "Archive:  ngrok-stable-linux-amd64.zip\n",
            "  inflating: /opt/ngrok              \n"
          ],
          "name": "stdout"
        }
      ]
    },
    {
      "cell_type": "markdown",
      "metadata": {
        "id": "Z3I__g46MOoa",
        "colab_type": "text"
      },
      "source": [
        "# noVNC セッションの開始"
      ]
    },
    {
      "cell_type": "code",
      "metadata": {
        "id": "7SwnsECweSJ_",
        "colab_type": "code",
        "cellView": "both",
        "outputId": "fd7afed9-2f7d-4fdd-cda6-69c6b90e38af",
        "colab": {
          "base_uri": "https://localhost:8080/",
          "height": 70
        }
      },
      "source": [
        "%cd /content\n",
        "!mkdir -p /content/.vnc\n",
        "!kill $(ps ax | grep websockify | grep -v grep | awk '{ print $1 }') >/dev/null\n",
        "!pkill ngrok\n",
        "!pkill vncserver\n",
        "!pkill Xvnc\n",
        "!pkill anydesk\n",
        "#!pkill Xvfb\n",
        "!pkill x11vnc\n",
        "\n",
        "# !timeout 5 /opt/websockify/run 5901 --web=/opt/noVNC --wrap-mode=ignore -- /opt/TurboVNC/bin/vncserver :1 -securitytypes otp -otp -noxstartup 2>/dev/null\n",
        "get_ipython().system_raw('/opt/websockify/run 5901 --web=/opt/noVNC --wrap-mode=ignore -- /opt/TurboVNC/bin/vncserver :1 -depth 24 -geometry 1600x900 -securitytypes otp -otp -noxstartup > /content/.vnc/stdout 2>&1 &')\n",
        "get_ipython().system_raw('/opt/ngrok http -config=/content/config.yml 5901 &')\n",
        "! sleep 1\n",
        "get_ipython().system_raw('DISPLAY=:1 startxfce4 &')\n",
        "! sleep 1\n",
        "get_ipython().system_raw('DISPLAY=:1 jupyter notebook &')\n",
        "! sleep 2\n",
        "get_ipython().system_raw('DISPLAY=:1 epiphany http://localhost:8888 &')\n",
        "! sleep 1\n",
        "get_ipython().system_raw('DISPLAY=:1 xfce4-terminal &')\n",
        "! sleep 1\n",
        "get_ipython().system_raw('DISPLAY=:1 anydesk &')\n",
        "! sleep 1\n",
        "get_ipython().system_raw('DISPLAY=:1 xmodmap ~/.Xmodmap')\n",
        "! sleep 1\n",
        "!grep \"one-time password:\" /content/.vnc/stdout\n",
        "\n",
        "import requests\n",
        "import json\n",
        "r = requests.get(\"http://localhost:4045/api/tunnels\", headers={\"content-type\": \"application/json\"})\n",
        "print(r.json()['tunnels'][0]['public_url'])"
      ],
      "execution_count": 10,
      "outputs": [
        {
          "output_type": "stream",
          "text": [
            "/content\n",
            "Full control one-time password: 19387173\n",
            "https://e83488a2.ngrok.io\n"
          ],
          "name": "stdout"
        }
      ]
    },
    {
      "cell_type": "code",
      "metadata": {
        "id": "qIzfem6u8OSz",
        "colab_type": "code",
        "colab": {}
      },
      "source": [
        ""
      ],
      "execution_count": 0,
      "outputs": []
    },
    {
      "cell_type": "markdown",
      "metadata": {
        "id": "MKgXoOiFOXtC",
        "colab_type": "text"
      },
      "source": [
        "# テストプログラム"
      ]
    },
    {
      "cell_type": "code",
      "metadata": {
        "id": "fanS55PiCAoq",
        "colab_type": "code",
        "colab": {}
      },
      "source": [
        "!curl -fsSL -O https://gist.githubusercontent.com/aquapathos/94ab03a7e84a58695289c5b9a70110fa/raw/d3bfc29bd02cb276c401ee966a319b3a18749b97/l0041-color_som-1.ipynb"
      ],
      "execution_count": 0,
      "outputs": []
    },
    {
      "cell_type": "code",
      "metadata": {
        "id": "jNDAIU5uOcaD",
        "colab_type": "code",
        "colab": {}
      },
      "source": [
        "!curl -fsSL -O https://gist.githubusercontent.com/aquapathos/e7bb81a3bdd1a97f9337df4bc493a15a/raw/67cee05076de1552bb5bcce315e4dd503b06ba0a/Fake+Painter.ipynb"
      ],
      "execution_count": 0,
      "outputs": []
    }
  ]
}