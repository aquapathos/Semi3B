{
  "nbformat": 4,
  "nbformat_minor": 0,
  "metadata": {
    "colab": {
      "name": "L3_2Python基礎の基礎.ipynb",
      "version": "0.3.2",
      "provenance": [],
      "include_colab_link": true
    },
    "kernelspec": {
      "display_name": "Python 3",
      "language": "python",
      "name": "python3"
    }
  },
  "cells": [
    {
      "cell_type": "markdown",
      "metadata": {
        "id": "view-in-github",
        "colab_type": "text"
      },
      "source": [
        "<a href=\"https://colab.research.google.com/github/aquapathos/Semi3B/blob/master/L3_2Python%E5%9F%BA%E7%A4%8E%E3%81%AE%E5%9F%BA%E7%A4%8E.ipynb\" target=\"_parent\"><img src=\"https://colab.research.google.com/assets/colab-badge.svg\" alt=\"Open In Colab\"/></a>"
      ]
    },
    {
      "metadata": {
        "id": "P3-b1_hzXAoi",
        "colab_type": "text"
      },
      "cell_type": "markdown",
      "source": [
        "# 変数と算術演算\n",
        "\n",
        "##  変数\n",
        "- 変数というのは箱みたいなものだと思えば良い\n",
        "- 箱にものを入れることを、変数への代入という\n",
        "- 変数には、数値、文字、データフレーム、画像など様々なオブジェクトが入る\n",
        "\n",
        "## 算術演算\n",
        "\n",
        "| 演算| 記号|\n",
        "|:--:|:--:|\n",
        "|たし算|+|\n",
        "|ひき算|-|\n",
        "|かけ算|* |\n",
        "|わり算|/|\n",
        "|べき乗|**|\n",
        "|切り捨てわり算|// |\n",
        "|わった余り|%|\n",
        "|整数化| int(式)|\n",
        "|浮動小数点数化|float(式）|\n"
      ]
    },
    {
      "metadata": {
        "id": "q68LVW5lXAoj",
        "colab_type": "code",
        "colab": {}
      },
      "cell_type": "code",
      "source": [
        "a = 4\n",
        "print(9/a)  # 商\n",
        "print(9//a) # 商の整数部分\n",
        "print(9%a)  # 余り\n",
        "print((9 - (9//a)*a)== 9%a)\n",
        "print((123459 - (123459//a)*a)== 123459%a)"
      ],
      "execution_count": 0,
      "outputs": []
    },
    {
      "metadata": {
        "id": "j_dsxsoyXAom",
        "colab_type": "code",
        "colab": {}
      },
      "cell_type": "code",
      "source": [
        "x,y,z = 25,80,9.12345  # ３変数に同時に代入\n",
        "print(type(z))\n",
        "x_float = float(x)  # 整数から浮動小数点数への変換\n",
        "print(x_float)\n",
        "z_int = int(z) # 浮動小数点数から整数への変換\n",
        "print(z,z_int,type(z_int))"
      ],
      "execution_count": 0,
      "outputs": []
    },
    {
      "metadata": {
        "id": "aqwBXrk9XAoo",
        "colab_type": "text"
      },
      "cell_type": "markdown",
      "source": [
        "# 真理値と比較演算子\n",
        "\n",
        "## 比較演算子\n",
        "- <  　小なり　　  \n",
        "- \\>　大なり    \n",
        "- \\>=　大なり、または等しい    \n",
        "- <=　小なり、または等しい    \n",
        "- ==　等しい    \n",
        "- !=　異なる\n",
        " \n",
        " ## 真理値\n",
        "- True  真\n",
        "- False 偽\n",
        " \n",
        " ## 論理演算子\n",
        "- not 否定    \n",
        "- and 論理積    \n",
        "- or 論理和    "
      ]
    },
    {
      "metadata": {
        "id": "4wqxaaCMXAoo",
        "colab_type": "code",
        "colab": {}
      },
      "cell_type": "code",
      "source": [
        "#  数式中に使うと　Trueは１、False は０として扱われる\n",
        "print(\"3*True + 2*False = \",3*True + 2*False)"
      ],
      "execution_count": 0,
      "outputs": []
    },
    {
      "metadata": {
        "id": "u_mYIT3XXAoq",
        "colab_type": "code",
        "colab": {}
      },
      "cell_type": "code",
      "source": [
        "True == 1 # Trueは整数の１に等しい"
      ],
      "execution_count": 0,
      "outputs": []
    },
    {
      "metadata": {
        "id": "ouE6ZrSVXAos",
        "colab_type": "code",
        "colab": {}
      },
      "cell_type": "code",
      "source": [
        "False == 0 # Falseは整数の０に等しい"
      ],
      "execution_count": 0,
      "outputs": []
    },
    {
      "metadata": {
        "id": "kieqjun8XAou",
        "colab_type": "code",
        "colab": {}
      },
      "cell_type": "code",
      "source": [
        "not not False # 二重否定"
      ],
      "execution_count": 0,
      "outputs": []
    },
    {
      "metadata": {
        "id": "g8R1GxFBXAow",
        "colab_type": "code",
        "colab": {}
      },
      "cell_type": "code",
      "source": [
        "True and not True"
      ],
      "execution_count": 0,
      "outputs": []
    },
    {
      "metadata": {
        "id": "udBFoOB0XAoy",
        "colab_type": "code",
        "colab": {}
      },
      "cell_type": "code",
      "source": [
        "10 !=  100  # !=  は　等しくない、という意味。階乗の意味ではないことに注意。"
      ],
      "execution_count": 0,
      "outputs": []
    },
    {
      "metadata": {
        "id": "bymAdYZNXAo1",
        "colab_type": "code",
        "colab": {}
      },
      "cell_type": "code",
      "source": [
        "200 > 120"
      ],
      "execution_count": 0,
      "outputs": []
    },
    {
      "metadata": {
        "id": "mUH31WIKXAo3",
        "colab_type": "code",
        "colab": {}
      },
      "cell_type": "code",
      "source": [
        "not 200 > 120"
      ],
      "execution_count": 0,
      "outputs": []
    },
    {
      "metadata": {
        "id": "K5EimUGgXAo5",
        "colab_type": "code",
        "colab": {}
      },
      "cell_type": "code",
      "source": [
        "100  >= 100 or 10 != 10"
      ],
      "execution_count": 0,
      "outputs": []
    },
    {
      "metadata": {
        "id": "_OnM7j4oXAo6",
        "colab_type": "code",
        "colab": {}
      },
      "cell_type": "code",
      "source": [
        "a = \"man\"; b = \"man\"; c = \"human\"  # C や Java のように、; で文を区切ることもできる "
      ],
      "execution_count": 0,
      "outputs": []
    },
    {
      "metadata": {
        "id": "Ah6MOz3wXAo8",
        "colab_type": "code",
        "colab": {}
      },
      "cell_type": "code",
      "source": [
        "a == b"
      ],
      "execution_count": 0,
      "outputs": []
    },
    {
      "metadata": {
        "id": "FSkK8duOXAo-",
        "colab_type": "code",
        "colab": {}
      },
      "cell_type": "code",
      "source": [
        "a == c"
      ],
      "execution_count": 0,
      "outputs": []
    },
    {
      "metadata": {
        "id": "OAcIAvhsXAo_",
        "colab_type": "code",
        "colab": {}
      },
      "cell_type": "code",
      "source": [
        "\"m\" in b # 「文字列 \"m\" は b に含まれるか？」　→ True/False"
      ],
      "execution_count": 0,
      "outputs": []
    },
    {
      "metadata": {
        "id": "kH4edvzQXApB",
        "colab_type": "code",
        "colab": {}
      },
      "cell_type": "code",
      "source": [
        "\"hum\" in c"
      ],
      "execution_count": 0,
      "outputs": []
    },
    {
      "metadata": {
        "id": "Ll7A2nLfXApE",
        "colab_type": "code",
        "colab": {}
      },
      "cell_type": "code",
      "source": [
        "a in c"
      ],
      "execution_count": 0,
      "outputs": []
    },
    {
      "metadata": {
        "id": "yD5do_awXApH",
        "colab_type": "code",
        "colab": {}
      },
      "cell_type": "code",
      "source": [
        "# ３つ以上の式の比較をまとめて判定\n",
        "10 < 20 < 30"
      ],
      "execution_count": 0,
      "outputs": []
    },
    {
      "metadata": {
        "id": "h9z1ohO3XApJ",
        "colab_type": "code",
        "colab": {}
      },
      "cell_type": "code",
      "source": [
        "10 < 20 < 4"
      ],
      "execution_count": 0,
      "outputs": []
    },
    {
      "metadata": {
        "id": "QbjnRmPQXApK",
        "colab_type": "code",
        "colab": {}
      },
      "cell_type": "code",
      "source": [
        "10 < 5 < 9 or 10 == 100/10  > 5"
      ],
      "execution_count": 0,
      "outputs": []
    },
    {
      "metadata": {
        "id": "clw9_mb9XApM",
        "colab_type": "text"
      },
      "cell_type": "markdown",
      "source": [
        "# 文字列\n",
        "\n",
        "文字列の例 　　\"abc\"   '山田太郎'\n",
        "\n",
        "- Python では　” ”で囲まれた文字列と’ ’で囲まれた文字列は区別されない\n",
        "- 比較演算子 ==, > など で比較できる　（　← C言語と大きく違う点）\n",
        "-  == は同一の文字列かどうか\n",
        "-  <, >, >=, <=  は辞書式順序の前後関係が比較される\n",
        "\n",
        "\n",
        "**len( 文字列） **  文字列のながさ    \n",
        "**文字列.upper()**   大文字に変換    \n",
        "**文字列.lower()**    小文字に変換\n",
        "\n",
        "python２では日本語文字列と英語文字列は扱い方が別であったが、python3では世界各国の文字を統一的に扱う UTFコードが全面的に使用されるようになり、英文字も日本語も１文字は１文字としてカウントされる。\n",
        "\n",
        "記憶容量的には全角文字１文字は英数文字２文字分の容量を占める。このため、歴史的には全角１文字を２文字としてカウントするような言語、あるいは言語のバージョンが存在し、現在もまだ残っているので注意が必要である。\n",
        "\n",
        "- **改行文字**  \\\\n\n",
        "\n",
        "例   print(\"abc\\\\ndef\")\n",
        "~~~\n",
        "abc    \n",
        "def~~~\n",
        "\n",
        "- 改行やスペースも１文字としてカウントされる\n",
        "- C言語では文字列の終わりに終端記号　\\\\0　が入り、１文字としてカウントされるが、Python の文字列には終端記号はない\n",
        "\n",
        "- **print(式, sep=セパレータ, end=終了文字)** \n",
        "\n",
        "#### 例\n",
        "~~~\n",
        "print(\"A\",122,\"B\",10,sep=\"=\", end=\"\")\n",
        "print(\"続き\")\n",
        "print(\"さらに続き\")\n",
        "\n",
        "A=122=B=10続き\n",
        "さらに続き\n",
        "~~~\n"
      ]
    },
    {
      "metadata": {
        "id": "Bf9bvkGKXApM",
        "colab_type": "code",
        "colab": {}
      },
      "cell_type": "code",
      "source": [
        "\"abc\" == 'abc'"
      ],
      "execution_count": 0,
      "outputs": []
    },
    {
      "metadata": {
        "id": "xcauyZMlXApO",
        "colab_type": "code",
        "colab": {}
      },
      "cell_type": "code",
      "source": [
        "\"abce\" > \"abgaab\""
      ],
      "execution_count": 0,
      "outputs": []
    },
    {
      "metadata": {
        "id": "wcILd2K-XApP",
        "colab_type": "code",
        "colab": {}
      },
      "cell_type": "code",
      "source": [
        "'abc'.upper()"
      ],
      "execution_count": 0,
      "outputs": []
    },
    {
      "metadata": {
        "id": "FmZhDPd1XApR",
        "colab_type": "code",
        "colab": {}
      },
      "cell_type": "code",
      "source": [
        "st = \"100万年早いぜ\" # 全角文字も１文字は１文字\n",
        "len(st)"
      ],
      "execution_count": 0,
      "outputs": []
    },
    {
      "metadata": {
        "id": "VIVy6VOsXApT",
        "colab_type": "code",
        "colab": {}
      },
      "cell_type": "code",
      "source": [
        "print(\"abc\\ndef\")  # 改行文字 \\n の動作確認"
      ],
      "execution_count": 0,
      "outputs": []
    },
    {
      "metadata": {
        "id": "ROfmlzyMXApV",
        "colab_type": "code",
        "colab": {}
      },
      "cell_type": "code",
      "source": [
        "len(\"abc\\ndef\") # 改行文字 \\n は１文字とカウントされる"
      ],
      "execution_count": 0,
      "outputs": []
    },
    {
      "metadata": {
        "id": "6Rn0tM9nXApY",
        "colab_type": "code",
        "colab": {}
      },
      "cell_type": "code",
      "source": [
        "#  文字列に区切り記号を入れる\n",
        "print(\"AAA\",\"CCC\",\"DDD\", sep=\"-\", end = \"!!\")"
      ],
      "execution_count": 0,
      "outputs": []
    },
    {
      "metadata": {
        "id": "aNR8ABhwXApZ",
        "colab_type": "code",
        "colab": {}
      },
      "cell_type": "code",
      "source": [
        "# 文字列の連結\n",
        "lang = \"Python\"\n",
        "\"We study \" + lang + \" everyday.\""
      ],
      "execution_count": 0,
      "outputs": []
    },
    {
      "metadata": {
        "id": "nJBBowCoXApb",
        "colab_type": "code",
        "colab": {}
      },
      "cell_type": "code",
      "source": [
        "2*lang # 文字列の繰り返し"
      ],
      "execution_count": 0,
      "outputs": []
    },
    {
      "metadata": {
        "id": "cvmxM3wGXApd",
        "colab_type": "code",
        "colab": {}
      },
      "cell_type": "code",
      "source": [
        "# 文字としての数式を評価する\n",
        "40 + \"40/5\" # エラー"
      ],
      "execution_count": 0,
      "outputs": []
    },
    {
      "metadata": {
        "id": "GzTy3De2XApf",
        "colab_type": "code",
        "colab": {}
      },
      "cell_type": "code",
      "source": [
        "40+eval(\"40/5\")"
      ],
      "execution_count": 0,
      "outputs": []
    },
    {
      "metadata": {
        "id": "6YkCamcfXApg",
        "colab_type": "text"
      },
      "cell_type": "markdown",
      "source": [
        "# 文字列の操作\n",
        "\n",
        "## 索引付け\n",
        "\n",
        "    hw = \"Hello World!\"    \n",
        "    hw[0] -> 'H'    \n",
        "    hw[1] -> 'e'    \n",
        "    hw[2] -> 'l'    \n",
        "    hw[100] -> エラー\n",
        "\n",
        "## スライス\n",
        "\n",
        "    hw[6:]  -> \"World\"    \n",
        "    hw[:5] -> \"Hello\"\n",
        "    \n",
        "## ストライド\n",
        "\n",
        "    numbers = \"0123456\"    \n",
        "    numbers[::2] -> \"02456\"    \n",
        "    numbers[1::2] -> \"1357\"\n",
        "    \n",
        "\n",
        "## フォーマット\n",
        "\n",
        "    prize = [\"金\",\"銀\",\"銅\"]\n",
        "    gain = [2,5,4]\n",
        "    result = \"オリンピックメダル　{}{}, {}{}, {}{}\".format(prize[0],gain[0],prize[1],gain[1],prize[1],gain[1])\n",
        "    \n",
        "    フォーマットの簡易表記\n",
        "    \"%d  %d  %.2f\" % (10, 10, 10/3) \n",
        "    m,n = 5, 92\n",
        "    f\"{n} を {m}で割ると、{n//m}あまり{n%m},\\n  {n} に{m}をかけると、{n*m}.\"\n"
      ]
    },
    {
      "metadata": {
        "collapsed": true,
        "id": "5MAxIBdmXAph",
        "colab_type": "code",
        "colab": {}
      },
      "cell_type": "code",
      "source": [
        "hw = \"Hello World!\"\n",
        "hw[11] # 最初を０として1１文字目"
      ],
      "execution_count": 0,
      "outputs": []
    },
    {
      "metadata": {
        "collapsed": true,
        "id": "Uw1ioQADXApk",
        "colab_type": "code",
        "colab": {}
      },
      "cell_type": "code",
      "source": [
        "print(hw[6:]) # 最初を０として６文字目から後\n",
        "print(hw[:5]) # 先頭から５文字"
      ],
      "execution_count": 0,
      "outputs": []
    },
    {
      "metadata": {
        "collapsed": true,
        "id": "IxlycMiqXApl",
        "colab_type": "code",
        "colab": {}
      },
      "cell_type": "code",
      "source": [
        "numbers = \"0123456789\""
      ],
      "execution_count": 0,
      "outputs": []
    },
    {
      "metadata": {
        "collapsed": true,
        "id": "7RZX1UudXApm",
        "colab_type": "code",
        "colab": {}
      },
      "cell_type": "code",
      "source": [
        "numbers[::2]"
      ],
      "execution_count": 0,
      "outputs": []
    },
    {
      "metadata": {
        "collapsed": true,
        "id": "cQipKGXeXApo",
        "colab_type": "code",
        "colab": {}
      },
      "cell_type": "code",
      "source": [
        "numbers[1::2]"
      ],
      "execution_count": 0,
      "outputs": []
    },
    {
      "metadata": {
        "collapsed": true,
        "id": "bX-cMyr0XApq",
        "colab_type": "code",
        "colab": {}
      },
      "cell_type": "code",
      "source": [
        "numbers[0:7:3]"
      ],
      "execution_count": 0,
      "outputs": []
    },
    {
      "metadata": {
        "collapsed": true,
        "id": "CiUJt_bFXApu",
        "colab_type": "code",
        "colab": {}
      },
      "cell_type": "code",
      "source": [
        "prize = [\"金\",\"銀\",\"銅\"]\n",
        "gain = [2,5,4]\n",
        "result = \"オリンピックメダル {}{}, {}{}, {}{}\"\n",
        "result.format(prize[0],gain[0],prize[1],gain[1],prize[2],gain[2])"
      ],
      "execution_count": 0,
      "outputs": []
    },
    {
      "metadata": {
        "collapsed": true,
        "id": "idJ_Xch3XApw",
        "colab_type": "code",
        "colab": {}
      },
      "cell_type": "code",
      "source": [
        "myname = \"山川海彦\"\n",
        "age = 20\n",
        "\"はじめまして。私の名前は{}です。{}歳です。\".format(myname,age)"
      ],
      "execution_count": 0,
      "outputs": []
    },
    {
      "metadata": {
        "id": "QALy8bYAXApz",
        "colab_type": "text"
      },
      "cell_type": "markdown",
      "source": [
        "# 課題\n",
        "myname と age のところを自分の名前と年齢に書き換えて試しなさい。"
      ]
    },
    {
      "metadata": {
        "collapsed": true,
        "id": "x5hDnnT_XAp0",
        "colab_type": "code",
        "colab": {}
      },
      "cell_type": "code",
      "source": [
        "# 簡易フォーマット\n",
        "print(\"%d  %d  %.2f\" % (10, 10, 10/3) )"
      ],
      "execution_count": 0,
      "outputs": []
    },
    {
      "metadata": {
        "collapsed": true,
        "id": "WQKNRA_GXAp1",
        "colab_type": "code",
        "colab": {}
      },
      "cell_type": "code",
      "source": [
        "\" %s  の文字数は %d \" % (myname,len(myname))"
      ],
      "execution_count": 0,
      "outputs": []
    },
    {
      "metadata": {
        "collapsed": true,
        "id": "_ct3po0SXAp3",
        "colab_type": "code",
        "colab": {}
      },
      "cell_type": "code",
      "source": [
        "m,n = 5, 92\n",
        "print(f\"{n} を {m}で割ると、{n//m}あまり{n%m},\\n  {n} に{m}をかけると、{n*m}.\")"
      ],
      "execution_count": 0,
      "outputs": []
    },
    {
      "metadata": {
        "id": "uA7RkNc6XAp5",
        "colab_type": "text"
      },
      "cell_type": "markdown",
      "source": [
        "# タプル、リスト、セット、そしてレンジ\n",
        "\n",
        "- タプルもリストもセットも、データの集まり（コレクションと呼ばれる）を表すデータ構造\n",
        "- リストは [ ] 、タプルは 　（）、 セットは { } で囲まれる。\n",
        "- リストは可変長で、要素の書き換えができるが、タプルは固定長で書き換え不可\n",
        "- リストとタプルは要素が同じでも、並び順が異なれば別物、セットは要素の並び順に意味がなく、構成要素が同じなら同じセット\n",
        "- セットは集合のこと。よって同じ要素を２つ含むことがない。\n",
        "\n",
        "リストの例    \n",
        "~~~\n",
        "numbers = [1,1,2,3,5,8,13]    \n",
        "numbers[0] = 'A'   ->  ['A',1,2,3,5,8,13]    \n",
        "~~~    \n",
        "タプルの例    \n",
        "~~~\n",
        "tpl = (640, 480, 3)    \n",
        "tpl[0]   ->  640    \n",
        "tpl[0] = 480   ->  エラー    \n",
        "~~~     \n",
        "セットの例    \n",
        "~~~\n",
        "s1 = set((1,3,1))    \n",
        "s2 = {3,3,1}    \n",
        "s1 == s2  -> True\n",
        "~~~     \n",
        "\n",
        "## 相互変換\n",
        "\n",
        "- list(タプルまたはセット） 　　リストへ変換\n",
        "- tuple(セットまたはリスト）　　タプルへ変換\n",
        "- set( タプルまたはリスト） 　　セットへ変換\n",
        "\n",
        "\n",
        "例\n",
        "~~~\n",
        "a = (1,1,2,3,5)        \n",
        "b = list(a)    \n",
        "b.append(b[3]+b[4])    \n",
        "c = set(b)    \n",
        "a,b,c    \n",
        "((1, 1, 2, 3, 5), [1, 1, 2, 3, 5, 8], {1, 2, 3, 5, 8})\n",
        "~~~\n",
        "\n",
        "# レンジ（範囲）\n",
        "\n",
        "- range(start,end,step)   start から end の範囲で、step ごと\n",
        "\n",
        "例\n",
        "~~~\n",
        "range(20,50)    \n",
        "range(5)  -> range(0,5) に等しい     \n",
        "list(range(5))  ->  [0,1,2,3.4]    \n",
        "list(0,10,3) -> [0,3,6,9]    \n",
        "~~~"
      ]
    },
    {
      "metadata": {
        "id": "OO3MG0G8XAp5",
        "colab_type": "text"
      },
      "cell_type": "markdown",
      "source": [
        "# 課題 \n",
        "例を試してみよう"
      ]
    },
    {
      "metadata": {
        "collapsed": true,
        "id": "rdPrUEonXAp5",
        "colab_type": "code",
        "colab": {}
      },
      "cell_type": "code",
      "source": [
        ""
      ],
      "execution_count": 0,
      "outputs": []
    },
    {
      "metadata": {
        "id": "zrl-UV23XAp7",
        "colab_type": "text"
      },
      "cell_type": "markdown",
      "source": [
        "## リストへの操作\n",
        "- **append(x)**    \n",
        "    最後にxを追加\n",
        "- **clear()**     \n",
        "    全データをクリア\n",
        "- **copy()**    \n",
        "    複製を作る\n",
        "- **count(x)**    \n",
        "    xの数\n",
        "- **extend(追加リスト)**    \n",
        "    リストの最後に追加リストの要素を順に付け加える\n",
        "- **index(番号)**    \n",
        "    [番号]　と同じ\n",
        "- **insert(idx, x)**    \n",
        "    idx 番の位置に x を挿入する\n",
        "- **pop()**    \n",
        "    一番右の要素を取り出す\n",
        "- **remove(x)**    \n",
        "    一番左のxを取り除く。 無いとエラー\n",
        "- ** reverse()**    \n",
        "    逆順にする\n",
        "- ** sort()**    \n",
        "    小さい順に並べる\n",
        "\n",
        "\n",
        "例\n",
        "~~~\n",
        "a = list(range(0,10,3))\n",
        "b = a.copy()\n",
        "c = a\n",
        "c.append(6)\n",
        "a,b,c\n",
        "[0, 3, 6, 9, 6], [0, 3, 6, 9], [0, 3, 6, 9, 6])\n",
        "~~~\n",
        "\n",
        "~~~\n",
        "a.count(6)\n",
        "2\n",
        "~~~\n",
        "\n",
        "~~~\n",
        "a.extend([3,4])\n",
        "c\n",
        "[0, 3, 6, 9, 6, 3, 4]\n",
        "~~~\n",
        "\n",
        "~~~\n",
        "a.index(4), a[4]\n",
        "(6 6)\n",
        "~~~\n",
        "\n",
        "~~~\n",
        "a.pop(),a\n",
        "(4,[0, 3, 6, 9, 6, 3])\n",
        "~~~\n",
        "\n",
        "~~~\n",
        "a.remove(6)\n",
        "a.remove(6)\n",
        "a\n",
        "[0, 'A', 3, 9, 3]\n",
        "~~~\n",
        "\n",
        "~~~\n",
        "a.reverse()\n",
        "a\n",
        "[3, 9, 3, 'A', 0]\n",
        "~~~\n",
        "\n",
        "~~~\n",
        "a.reverse()\n",
        "a\n",
        "[3, 9, 3, 'A', 0]\n",
        "~~~\n",
        "\n",
        "~~~\n",
        "c.remove('A')\n",
        "a\n",
        "[3, 9, 3, 0]\n",
        "~~~\n",
        "\n",
        "~~~\n",
        "c.sort()\n",
        "a\n",
        "[0, 3, 3, 9]\n",
        "~~~"
      ]
    },
    {
      "metadata": {
        "id": "-Bn9VvpMXAp7",
        "colab_type": "text"
      },
      "cell_type": "markdown",
      "source": [
        "# 課題\n",
        "上に挙がっている例を実際に試してみよう"
      ]
    },
    {
      "metadata": {
        "collapsed": true,
        "id": "1lfGjc1CXAp8",
        "colab_type": "code",
        "colab": {}
      },
      "cell_type": "code",
      "source": [
        ""
      ],
      "execution_count": 0,
      "outputs": []
    },
    {
      "metadata": {
        "collapsed": true,
        "id": "W7mpXVtnXAp9",
        "colab_type": "code",
        "colab": {}
      },
      "cell_type": "code",
      "source": [
        ""
      ],
      "execution_count": 0,
      "outputs": []
    },
    {
      "metadata": {
        "id": "6fl0aGJQXAp_",
        "colab_type": "text"
      },
      "cell_type": "markdown",
      "source": [
        "# dict 辞書式データ型\n",
        "\n",
        "- キー：値 のペアを保持する    \n",
        "- 登録できる値は    \n",
        "    - タプル　　 　\n",
        "    - 文字列と数値\n",
        "    - リスト\n",
        "    - 集合\n",
        "    - シリーズ（データ列）\n",
        "    - データフレーム（表）\n",
        "    - 辞書\n",
        "のいずれか\n",
        "\n",
        "    - dict も　{} が使われる。要素が　 　**キー:値** という形なら　dict 、そうでないなら　set\n",
        "    \n",
        "### 例\n",
        "~~~\n",
        "type({})\n",
        "dict    # 空だと dict として扱われる\n",
        "~~~\n",
        "\n",
        "~~~\n",
        "d = {'a':1,'b':2,'c':3}\n",
        "d['e'] = 5\n",
        "d['d'] = 4\n",
        "print(d)\n",
        "d\n",
        "{'a': 1, 'b': 2, 'c': 3, 'e': 5, 'd': 4}\n",
        "{'a': 1, 'b': 2, 'c': 3, 'd': 4, 'e': 5}\n",
        "~~~\n",
        "\n",
        "~~~\n",
        "d1 = {} #  空の辞書\n",
        "d1[\"Taro\"]=100\n",
        "d1[\"Jiro\"]=80\n",
        "d1[\"Hanako\"]=120\n",
        "d１\n",
        "{'Hanako': 120, 'Jiro': 80, 'Taro': 100}\n",
        "~~~\n",
        "\n",
        "## dict の操作\n",
        "- **dict1.update(dict2)**    \n",
        "    dict1  に dict2 の要素を連結する\n",
        "- **dict1.values()**    \n",
        "    dict1  の値のリスト\n",
        "- **dict1.keys()**    \n",
        "    dict1 のキーのリスト\n",
        "- **dict1.copy()**    \n",
        "    dict1 の複製\n",
        "- **dict1.pop(key)**    \n",
        "    key に合うデータ（キーと値の対）を取り出す\n",
        "- **dict1.get(key)**    \n",
        "    keyに対する値をえる。dict1[key]と同じ\n",
        "    \n",
        "\n",
        "### 例\n",
        "\n",
        "~~~\n",
        "d = {'数学':100, '国語':45, '英語':43}\n",
        "d1={'理科':98, '社会':56}\n",
        "d.update(d1)\n",
        "d\n",
        "{'国語': 45, '数学': 100, '理科': 98, '社会': 56, '英語': 43}\n",
        "~~~\n",
        "\n",
        "\n",
        "~~~\n",
        "dict1.pop('Jiro')\n",
        "dict1\n",
        "{'Hanako': 120, 'Taro': 100}\n",
        "~~~\n",
        "\n"
      ]
    },
    {
      "metadata": {
        "id": "5pNrm9AqXAp_",
        "colab_type": "text"
      },
      "cell_type": "markdown",
      "source": [
        "# 課題\n",
        "\n",
        "\n",
        "\n",
        "(1)  toys = {\"PS4\":36400,  \"Switch\":32800,  \"XBOX\":19200} である時、関数 sum, values を使って数値部分の合計を求めるプログラムを作成せよ。\n",
        "\n",
        "ヒント\n",
        "- list(toys.values()) で値だけのリストを取り出せる。 \n",
        "- list が数値のリストであるとき、sum(list) で　要素の合計を計算できる。\n",
        "\n",
        "(2) toys = {\"PS4\":\"36400円\",  \"Switch\":\"32800円\",  \"XBOX\":\"19200円\"} である時、関数 sum, values を使って数値部分の合計を求めるプログラムを作成せよ。\n",
        "\n",
        "ヒント\n",
        " - list[0]、list[1], list[2] で、list の０番目、1番目、２番目を取り出せる\n",
        " -  x = \"abc\" の時、x[:-1] = \"ab\"　　　（最後の１文字を削除）\n",
        " - 文字列が式（数を含む）であるとき、eval(文字列）で数値に変換できる。\n",
        " \n",
        "(3)  [10  10, \"a\"  \"gudaguda\",  10  30, \"abc\"  \"def\"]　　\n",
        "\n",
        "結果が、[True, True, False, True] となるよう、空白部分に、 !=, ==, in のいずれかを入れなさい。\n",
        "\n",
        "(4)  <あ>、<い>、<う> には何が入るか？　\n",
        "~~~\n",
        "dict2 = <あ>\n",
        "dict1 = { 0:'A', 2:'Q', 3:'J' }\n",
        "dict1[<い>] =<う>  \n",
        "dict1.update(dict2)\n",
        "dict1\n",
        "~~~\n",
        "の結果が、    \n",
        "{0: 'A', 1: 'K', 2: 'Q', 3: 'J', 5: 'X', 6: 'Y'}     \n",
        "となる。\n",
        "\n"
      ]
    },
    {
      "metadata": {
        "collapsed": true,
        "id": "4K0c3px2XAqA",
        "colab_type": "code",
        "colab": {}
      },
      "cell_type": "code",
      "source": [
        "dict2={5:'X',6:'Y'}\n",
        "dict1 = { 0:'A', 2:'Q', 3:'J' }\n",
        "dict1[1]='K'\n",
        "dict1.update(dict2)\n",
        "dict1"
      ],
      "execution_count": 0,
      "outputs": []
    },
    {
      "metadata": {
        "collapsed": true,
        "id": "xtRjsgK8XAqB",
        "colab_type": "code",
        "colab": {}
      },
      "cell_type": "code",
      "source": [
        ""
      ],
      "execution_count": 0,
      "outputs": []
    },
    {
      "metadata": {
        "collapsed": true,
        "id": "rEbVW6cfXAqC",
        "colab_type": "code",
        "colab": {}
      },
      "cell_type": "code",
      "source": [
        ""
      ],
      "execution_count": 0,
      "outputs": []
    },
    {
      "metadata": {
        "collapsed": true,
        "id": "GiP1mWvHXAqD",
        "colab_type": "code",
        "colab": {}
      },
      "cell_type": "code",
      "source": [
        ""
      ],
      "execution_count": 0,
      "outputs": []
    },
    {
      "metadata": {
        "collapsed": true,
        "id": "Z64-9N9vXAqE",
        "colab_type": "code",
        "colab": {}
      },
      "cell_type": "code",
      "source": [
        ""
      ],
      "execution_count": 0,
      "outputs": []
    },
    {
      "metadata": {
        "collapsed": true,
        "id": "3cvuRQ8pXAqF",
        "colab_type": "code",
        "colab": {}
      },
      "cell_type": "code",
      "source": [
        ""
      ],
      "execution_count": 0,
      "outputs": []
    },
    {
      "metadata": {
        "collapsed": true,
        "id": "cVs3UrXrXAqH",
        "colab_type": "code",
        "colab": {}
      },
      "cell_type": "code",
      "source": [
        ""
      ],
      "execution_count": 0,
      "outputs": []
    }
  ]
}