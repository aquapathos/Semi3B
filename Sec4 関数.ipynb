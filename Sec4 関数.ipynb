{
  "nbformat": 4,
  "nbformat_minor": 0,
  "metadata": {
    "colab": {
      "name": "Sec4 関数.ipynb",
      "version": "0.3.2",
      "provenance": [],
      "include_colab_link": true
    },
    "kernelspec": {
      "display_name": "Python 3",
      "language": "python",
      "name": "python3"
    }
  },
  "cells": [
    {
      "cell_type": "markdown",
      "metadata": {
        "id": "view-in-github",
        "colab_type": "text"
      },
      "source": [
        "<a href=\"https://colab.research.google.com/github/aquapathos/Semi3B/blob/master/Sec4%20%E9%96%A2%E6%95%B0.ipynb\" target=\"_parent\"><img src=\"https://colab.research.google.com/assets/colab-badge.svg\" alt=\"Open In Colab\"/></a>"
      ]
    },
    {
      "metadata": {
        "collapsed": true,
        "id": "HVNs9PMdicoX",
        "colab_type": "text"
      },
      "cell_type": "markdown",
      "source": [
        "# 組み込み関数\n",
        "\n",
        "- **print()**, **eval()** は既出なので省略\n",
        "\n",
        "- **max(リスト)** 最大値 \n",
        "~~~ python   \n",
        "max([1,3,4,5])\n",
        "5\n",
        "~~~\n",
        "- **min(リスト)** 最小値\n",
        "~~~ python\n",
        "min([1,3,4,5])\n",
        "1\n",
        "~~~\n",
        "- **sum( )** 合計\n",
        "~~~ python\n",
        "sum([1,3,4,5])\n",
        "13\n",
        "~~~\n",
        "- **round( )**  丸め処理（ほぼ四捨五入）\n",
        "~~~\n",
        "round(4.454,2)\n",
        "4.45\n",
        "round(4.455,2)\n",
        "4.46\n",
        "round(4.465,2)  # 5ちょうど の時は、偶数になる方に丸める\n",
        "4.46\n",
        "~~~\n",
        "- **abs( )** 絶対値\n",
        "~~~ python\n",
        "import matplotlib.pyplot as plt\n",
        "% matplotlib inline\n",
        "x = [float(d/10) for d in range(-10,10)]\n",
        "y = [abs(d) for d in x]\n",
        "plt.plot(x,x,'+-',x,y,'-')\n",
        "~~~ \n",
        "\n",
        "- **pow( )** べき乗\n",
        "~~~ python\n",
        "pow(2,10)\n",
        "1024\n",
        "~~~\n",
        "\n",
        "- **sorted( )** 並べ替え\n",
        "~~~ python\n",
        "sorted([1,3,2,5])\n",
        "[1,2,3,5]\n",
        "sorted([1,3,2,5], reverse=True)\n",
        "[5,3,2,1]\n",
        "~~~\n",
        "\n",
        "- **any(条件（論理値）のリスト )** すべての条件の成立の有無 \n",
        "~~~ python\n",
        "# 例 出席回数が２桁でレポート提出なら合格\n",
        "shusseki = eval(input(\"出席回数は？\"))\n",
        "rep = input(\"レポートは提出しましたか？ [y/n]\")\n",
        "if all([shusseki>=10,rep=='y']):\n",
        "    print(' 合格')\n",
        "else:\n",
        "    print('不合格')\n",
        "~~~\n",
        "\n",
        "- **any( )** いずれかの条件の成立の有無    \n",
        "~~~ python\n",
        "# 例 出席回数が２桁か、レポート提出のどちからで合格\n",
        "shusseki = eval(input(\"出席回数は？\"))\n",
        "rep = input(\"レポートは提出しましたか？ [y/n]\")\n",
        "if any([shusseki>=10,rep=='y']):\n",
        "    print(' 合格')\n",
        "else:\n",
        "    print('不合格')\n",
        "~~~"
      ]
    },
    {
      "metadata": {
        "id": "C430I7-3icol",
        "colab_type": "text"
      },
      "cell_type": "markdown",
      "source": [
        "# 課題\n",
        "上に挙げた組み込み関数の動作確認をしなさい。"
      ]
    },
    {
      "metadata": {
        "id": "tTlmBQ-Picoq",
        "colab_type": "code",
        "colab": {}
      },
      "cell_type": "code",
      "source": [
        ""
      ],
      "execution_count": 0,
      "outputs": []
    },
    {
      "metadata": {
        "id": "CG5mG6hJico1",
        "colab_type": "text"
      },
      "cell_type": "markdown",
      "source": [
        "# 乱数関数\n",
        "シミュレーションや統計のプログラムの他、ゲームづくりにも乱数の利用は必須となる。\n",
        "\n",
        "~~~ python\n",
        "import random as rd\n",
        "~~~\n",
        "\n",
        "#### (0,1) の一様乱数\n",
        "~~~\n",
        "rd.random()\n",
        "~~~\n",
        "\n",
        "#### 指定範囲の実数の乱数\n",
        "~~~\n",
        "rd.uniform(10,20)\n",
        "~~~\n",
        "\n",
        "#### 指定範囲の整数の乱数\n",
        "~~~ python\n",
        "rd.randint(10,20) # 10 から 20 までの整数乱数。２０含む\n",
        "~~~\n",
        "\n",
        "#### 指定範囲の整数の乱数, rangeによる指定\n",
        "~~~ python\n",
        "rd.randrange(10,100,10) # 10 以上 100 未満で１０おきの整数からの乱数. 100 は含まないことに注意\n",
        "~~~\n",
        "\n",
        "#### リストの要素のシャッフル\n",
        "~~~ python\n",
        "rd.shuffle(list)\n",
        "~~~\n",
        "\n",
        "#### リストの要素のランダムチョイス\n",
        "~~~ python\n",
        "rd. choices(list, k = 2)\n",
        "~~~\n",
        "\n",
        "~~~ python\n",
        "rd. choices(list,weight)\n",
        "~~~\n",
        "\n",
        "- **seed(初期値)**  乱数系列の初期化    \n",
        "~~~ python\n",
        "rd.seed()\n",
        "print([rd.randint(0,9) for _ in range(10)])\n",
        "rd.seed()\n",
        "print([rd.randint(0,9) for _ in range(10)])\n",
        "rd.seed(0)\n",
        "print([rd.randint(0,9) for _ in range(10)])\n",
        "rd.seed(0)\n",
        "print([rd.randint(0,9) for _ in range(10)])\n",
        "rd.seed(1.23)\n",
        "print([rd.randint(0,9) for _ in range(10)])\n",
        "rd.seed(1.23)\n",
        "print([rd.randint(0,9) for _ in range(10)])\n",
        "~~~\n",
        "    プログラミング言語の乱数は擬似乱数であり、実態は長い系列の数列であり、初期値が同じなら出現する数値の系列は何度やっても全く同じになる。\n",
        "\n",
        "    引数をあたえないと、時刻などを使って初期化される。\n",
        "\n",
        "    seed関数 は、\n",
        "    - 系列を変えて実験するため\n",
        "    - プログラムの修正時に同じ系列で実験することで、以前の結果と比較するため\n",
        "    に用いられる。\n",
        "\n",
        "#### 例\n",
        "~~~ python\n",
        "animals = [\"\\N{mouse}\",\"\\N{cow}\",\"\\N{tiger}\",\"\\N{rabbit}\", \"\\N{dragon}\",\"\\N{snake}\",\"\\N{horse}\",\"\\N{sheep}\",\"\\N{monkey}\",\"\\N{dog}\",\"\\N{boar}\"]\n",
        "print(animals)\n",
        "rd.shuffle(animals)\n",
        "print(animals)\n",
        "\n",
        "rd.choices(animals,k=3)\n",
        "~~~\n",
        "---\n",
        "~~~ python\n",
        "saikoro = list(range(1,7))\n",
        "print(\"公正なサイコロ\")\n",
        "for i in range(20):\n",
        "    print(rd.choices(saikoro)[0],end=\" \")\n",
        "print(\"\\n１の出易いサイコロ\")\n",
        "for i in range(20):\n",
        "    print(rd.choices(saikoro,[5,1,1,1,1,1])[0],end=\" \")\n",
        "~~~"
      ]
    },
    {
      "metadata": {
        "id": "K9YonyCNico4",
        "colab_type": "text"
      },
      "cell_type": "markdown",
      "source": [
        "# 課題\n",
        "乱数関数を一通り試してみなさい。"
      ]
    },
    {
      "metadata": {
        "id": "0iUsEvXvico7",
        "colab_type": "code",
        "colab": {}
      },
      "cell_type": "code",
      "source": [
        ""
      ],
      "execution_count": 0,
      "outputs": []
    },
    {
      "metadata": {
        "id": "NFFoUAFficpC",
        "colab_type": "code",
        "colab": {}
      },
      "cell_type": "code",
      "source": [
        ""
      ],
      "execution_count": 0,
      "outputs": []
    },
    {
      "metadata": {
        "id": "UkR7txwNicpJ",
        "colab_type": "text"
      },
      "cell_type": "markdown",
      "source": [
        "# オリジナルの関数\n",
        "他のプログラミング言語同様、pythonでもオリジナルの関数を定義して利用することができる。\n",
        "関数を使うことでプログラムコードがコンパクトになる。\n",
        "\n",
        "#### 例\n",
        "~~~ python\n",
        "def square(a):\n",
        "    \"\"\" square of the number \"\"\"\n",
        "    return a*a\n",
        "~~~\n",
        "\n",
        "#### 例\n",
        "~~~ python\n",
        "def minimum2(a1,a2):\n",
        "    if a1 < a2:\n",
        "        return a1\n",
        "    else:\n",
        "        return a2\n",
        "minimum2(34,13)\n",
        "13\n",
        "~~~\n",
        "~~~ python\n",
        "def minimum(list=[]):\n",
        "    if len(list)==0:\n",
        "        print(\"Error\")\n",
        "    elif len(list)==1:\n",
        "        return list[0]\n",
        "    else:\n",
        "        a1 = list[0]\n",
        "        a2 = minimum(list[1:])\n",
        "        return minimum2(a1,a2)\n",
        "minimum([42,543,14,6,14,12])\n",
        "6\n",
        "~~~\n",
        "---\n",
        "~~~ python\n",
        "def total(numbers):\n",
        "    s = 0\n",
        "    for i in numbers:\n",
        "        s += i\n",
        "    return s\n",
        "total([5,6,7])\n",
        "18\n",
        "~~~\n",
        "~~~ python\n",
        "def average(numbers):\n",
        "    return total(numbers)/len(numbers)\n",
        "average([5,6,7])\n",
        "6.0\n",
        "~~~"
      ]
    },
    {
      "metadata": {
        "id": "DRYNBk4AicpM",
        "colab_type": "code",
        "colab": {}
      },
      "cell_type": "code",
      "source": [
        ""
      ],
      "execution_count": 0,
      "outputs": []
    },
    {
      "metadata": {
        "id": "HLkOsLTIicpT",
        "colab_type": "code",
        "colab": {}
      },
      "cell_type": "code",
      "source": [
        ""
      ],
      "execution_count": 0,
      "outputs": []
    }
  ]
}