{
  "nbformat": 4,
  "nbformat_minor": 0,
  "metadata": {
    "colab": {
      "name": "Sec2 データ構造.ipynb",
      "version": "0.3.2",
      "provenance": [],
      "include_colab_link": true
    },
    "kernelspec": {
      "display_name": "Python 3",
      "language": "python",
      "name": "python3"
    }
  },
  "cells": [
    {
      "cell_type": "markdown",
      "metadata": {
        "id": "view-in-github",
        "colab_type": "text"
      },
      "source": [
        "<a href=\"https://colab.research.google.com/github/aquapathos/Semi3B/blob/master/Sec2_%E3%83%87%E3%83%BC%E3%82%BF%E6%A7%8B%E9%80%A0.ipynb\" target=\"_parent\"><img src=\"https://colab.research.google.com/assets/colab-badge.svg\" alt=\"Open In Colab\"/></a>"
      ]
    },
    {
      "metadata": {
        "id": "F-gubvUFWdGV",
        "colab_type": "text"
      },
      "cell_type": "markdown",
      "source": [
        "# タプル、リスト、セット、そしてレンジ\n",
        "\n",
        "- タプルもリストもセットも、データの集まり（コレクションと呼ばれる）を表すデータ構造\n",
        "- リストは [ ] 、タプルは 　（）、 セットは { } で囲まれる。\n",
        "- リストは可変長で、要素の書き換えができるが、タプルは固定長で書き換え不可\n",
        "- リストとタプルは要素が同じでも、並び順が異なれば別物、セットは要素の並び順に意味がなく、構成要素が同じなら同じセット\n",
        "- セットは集合のこと。よって同じ要素を２つ含むことがない。\n",
        "\n",
        "#### リストの例    \n",
        "~~~\n",
        "numbers = [1,1,2,3,5,8,13]    \n",
        "numbers[0] = 'A'   ->  ['A',1,2,3,5,8,13]    \n",
        "~~~    \n",
        "\n",
        "#### タプルの例    \n",
        "~~~\n",
        "tpl = (640, 480, 3)    \n",
        "tpl[0]   ->  640    \n",
        "tpl[0] = 480   ->  エラー    \n",
        "~~~     \n",
        "\n",
        "#### セットの例    \n",
        "~~~\n",
        "s1 = set((1,3,1))    \n",
        "s2 = {3,3,1}    \n",
        "s1 == s2  -> True\n",
        "~~~     \n",
        "\n",
        "## 相互変換\n",
        "\n",
        "- list(タプルまたはセット） 　　リストへ変換\n",
        "- tuple(セットまたはリスト）　　タプルへ変換\n",
        "- set( タプルまたはリスト） 　　セットへ変換\n",
        "\n",
        "\n",
        "#### 例\n",
        "~~~\n",
        "a = (1,1,2,3,5)        \n",
        "b = list(a)    \n",
        "b.append(b[3]+b[4])    \n",
        "c = set(b)    \n",
        "a,b,c    \n",
        "((1, 1, 2, 3, 5), [1, 1, 2, 3, 5, 8], {1, 2, 3, 5, 8})\n",
        "~~~\n",
        "\n",
        "# レンジ（範囲）\n",
        "\n",
        "- range(start,end,step)   start から end の範囲で、step ごと\n",
        "\n",
        "#### 例\n",
        "~~~\n",
        "range(20,50)    \n",
        "range(5)  -> range(0,5) に等しい     \n",
        "list(range(5))  ->  [0,1,2,3.4]    \n",
        "list(0,10,3) -> [0,3,6,9]    \n",
        "~~~"
      ]
    },
    {
      "metadata": {
        "id": "tehr5DIYWdGf",
        "colab_type": "text"
      },
      "cell_type": "markdown",
      "source": [
        "# 課題 \n",
        "例を試してみよう"
      ]
    },
    {
      "metadata": {
        "id": "UkkGQfe_WdGm",
        "colab_type": "code",
        "colab": {}
      },
      "cell_type": "code",
      "source": [
        ""
      ],
      "execution_count": 0,
      "outputs": []
    },
    {
      "metadata": {
        "id": "O11fGtVDWdG1",
        "colab_type": "code",
        "colab": {}
      },
      "cell_type": "code",
      "source": [
        ""
      ],
      "execution_count": 0,
      "outputs": []
    },
    {
      "metadata": {
        "id": "EaoYpa6qWdHB",
        "colab_type": "code",
        "colab": {}
      },
      "cell_type": "code",
      "source": [
        ""
      ],
      "execution_count": 0,
      "outputs": []
    },
    {
      "metadata": {
        "id": "-0DfyfTLWdHL",
        "colab_type": "text"
      },
      "cell_type": "markdown",
      "source": [
        "## リストへの操作\n",
        "- **append(x)**    \n",
        "    最後にxを追加\n",
        "- **clear()**     \n",
        "    全データをクリア\n",
        "- **copy()**    \n",
        "    複製を作る\n",
        "- **count(x)**    \n",
        "    xの数\n",
        "- **extend(追加リスト)**    \n",
        "    リストの最後に追加リストの要素を順に付け加える\n",
        "- **index(番号)**    \n",
        "    [番号]　と同じ\n",
        "- **insert(idx, x)**    \n",
        "    idx 番の位置に x を挿入する\n",
        "- **pop()**    \n",
        "    一番右の要素を取り出す\n",
        "- **remove(x)**    \n",
        "    一番左のxを取り除く。 無いとエラー\n",
        "- ** reverse()**    \n",
        "    逆順にする\n",
        "- ** sort()**    \n",
        "    小さい順に並べる\n",
        "\n",
        "## サンプル\n",
        "####  例  copy(), append() \n",
        "~~~\n",
        "a = list(range(0,10,3))\n",
        "b = a.copy()\n",
        "c = a\n",
        "c.append(6)\n",
        "a,b,c\n",
        "[0, 3, 6, 9, 6], [0, 3, 6, 9], [0, 3, 6, 9, 6])\n",
        "~~~\n",
        "\n",
        "####  例  count()\n",
        "~~~\n",
        "a.count(6)\n",
        "2\n",
        "~~~\n",
        "\n",
        "####  例 extend()\n",
        "~~~\n",
        "a.extend([3,4])\n",
        "c\n",
        "[0, 3, 6, 9, 6, 3, 4]\n",
        "~~~\n",
        "\n",
        "####  例  index()\n",
        "~~~\n",
        "a.index(4), a[4]\n",
        "(6 6)\n",
        "~~~\n",
        "\n",
        "####  例  pop()\n",
        "~~~\n",
        "a.pop(),a\n",
        "(4,[0, 3, 6, 9, 6, 3])\n",
        "~~~\n",
        "\n",
        "####  例 remove()\n",
        "~~~\n",
        "a.remove(6)\n",
        "a.remove(6)\n",
        "a\n",
        "[0, 'A', 3, 9, 3]\n",
        "~~~\n",
        "\n",
        "####  例 reverse()\n",
        "~~~\n",
        "a.reverse()\n",
        "a\n",
        "[3, 9, 3, 'A', 0]\n",
        "~~~\n",
        "\n",
        "~~~\n",
        "a.reverse()\n",
        "a\n",
        "[3, 9, 3, 'A', 0]\n",
        "~~~\n",
        "\n",
        "#### 例  remove()\n",
        "~~~\n",
        "c.remove('A')\n",
        "a\n",
        "[3, 9, 3, 0]\n",
        "~~~\n",
        "\n",
        "#### 例  sort()\n",
        "~~~\n",
        "c.sort()\n",
        "a\n",
        "[0, 3, 3, 9]\n",
        "~~~"
      ]
    },
    {
      "metadata": {
        "id": "rHwFjB_RWdHO",
        "colab_type": "text"
      },
      "cell_type": "markdown",
      "source": [
        "# dict 辞書式データ型\n",
        "\n",
        "- キー：値 のペアを保持する    \n",
        "- 登録できる値は    \n",
        "    - タプル　　 　\n",
        "    - 文字列と数値\n",
        "    - リスト\n",
        "    - 集合\n",
        "    - シリーズ（データ列）\n",
        "    - データフレーム（表）\n",
        "    - 辞書\n",
        "のいずれか\n",
        "\n",
        "    - dict も　{} が使われる。要素が　 　**キー:値** という形なら　dict 、そうでないなら　set\n",
        "    \n",
        "### 例\n",
        "~~~\n",
        "type({})\n",
        "dict    # 空だと dict として扱われる\n",
        "~~~\n",
        "\n",
        "~~~\n",
        "d = {'a':1,'b':2,'c':3}\n",
        "d['e'] = 5\n",
        "d['d'] = 4\n",
        "print(d)\n",
        "d\n",
        "{'a': 1, 'b': 2, 'c': 3, 'e': 5, 'd': 4}\n",
        "{'a': 1, 'b': 2, 'c': 3, 'd': 4, 'e': 5}\n",
        "~~~\n",
        "\n",
        "~~~\n",
        "d1 = {} #  空の辞書\n",
        "d1[\"Taro\"]=100\n",
        "d1[\"Jiro\"]=80\n",
        "d1[\"Hanako\"]=120\n",
        "d１\n",
        "{'Hanako': 120, 'Jiro': 80, 'Taro': 100}\n",
        "~~~\n",
        "\n",
        "## dict の操作\n",
        "- **dict1.update(dict2)**    \n",
        "    dict1  に dict2 の要素を連結する\n",
        "- **dict1.values()**    \n",
        "    dict1  の値のリスト\n",
        "- **dict1.keys()**    \n",
        "    dict1 のキーのリスト\n",
        "- **dict1.copy()**    \n",
        "    dict1 の複製\n",
        "- **dict1.pop(key)**    \n",
        "    key に合うデータ（キーと値の対）を取り出す\n",
        "- **dict1.get(key)**    \n",
        "    keyに対する値をえる。dict1[key]と同じ\n",
        "    \n",
        "\n",
        "#### 例\n",
        "\n",
        "~~~\n",
        "d = {'数学':100, '国語':45, '英語':43}\n",
        "d1={'理科':98, '社会':56}\n",
        "d.update(d1)\n",
        "d\n",
        "{'国語': 45, '数学': 100, '理科': 98, '社会': 56, '英語': 43}\n",
        "~~~\n",
        "\n",
        "\n",
        "~~~\n",
        "dict1.pop('Jiro')\n",
        "dict1\n",
        "{'Hanako': 120, 'Taro': 100}\n",
        "~~~\n"
      ]
    },
    {
      "metadata": {
        "id": "rzRngYYmWdHS",
        "colab_type": "text"
      },
      "cell_type": "markdown",
      "source": [
        "# 課題\n",
        "\n",
        "\n",
        "\n",
        "(1)  toys = {\"PS4\":36400,  \"Switch\":32800,  \"XBOX\":19200} である時、関数 sum, values を使って数値部分の合計を求めるプログラムを作成せよ。\n",
        "\n",
        "ヒント\n",
        "- list(toys.values()) で値だけのリストを取り出せる。 \n",
        "- list が数値のリストであるとき、sum(list) で　要素の合計を計算できる。\n",
        "\n",
        "(2) toys = {\"PS4\":\"36400円\",  \"Switch\":\"32800円\",  \"XBOX\":\"19200円\"} である時、関数 sum, values を使って数値部分の合計を求めるプログラムを作成せよ。\n",
        "\n",
        "ヒント\n",
        " - list[0]、list[1], list[2] で、list の０番目、1番目、２番目を取り出せる\n",
        " -  x = \"abc\" の時、x[:-1] = \"ab\"　　　（最後の１文字を削除）\n",
        " - 文字列が式（数を含む）であるとき、eval(文字列）で数値に変換できる。\n",
        " \n",
        "(3)  [10  10, \"a\"  \"gudaguda\",  10  30, \"abc\"  \"def\"]　　\n",
        "\n",
        "結果が、[True, True, False, True] となるよう、空白部分に、 !=, ==, in のいずれかを入れなさい。\n",
        "\n",
        "(4)  <あ>、<い>、<う> には何が入るか？　\n",
        "~~~\n",
        "dict2 = <あ>\n",
        "dict1 = { 0:'A', 2:'Q', 3:'J' }\n",
        "dict1[<い>] =<う>  \n",
        "dict1.update(dict2)\n",
        "dict1\n",
        "~~~\n",
        "の結果が、    \n",
        "{0: 'A', 1: 'K', 2: 'Q', 3: 'J', 5: 'X', 6: 'Y'}     \n",
        "となる。"
      ]
    },
    {
      "metadata": {
        "collapsed": true,
        "id": "q4QG3HecWdHV",
        "colab_type": "text"
      },
      "cell_type": "markdown",
      "source": [
        "# 補足　リストと四則演算\n",
        "\n",
        "- リスト　＋ リスト　はリストの連結を意味する\n",
        "- リスト　* 整数　は要素の繰り返しを意味する。\n",
        ">- リスト * 2 = リスト + リスト\n",
        ">- リスト * 3 = リスト + リスト　 + リスト"
      ]
    },
    {
      "metadata": {
        "id": "0ClErV9WWdHf",
        "colab_type": "code",
        "colab": {}
      },
      "cell_type": "code",
      "source": [
        "x = [1,2];  y=[10,100]"
      ],
      "execution_count": 0,
      "outputs": []
    },
    {
      "metadata": {
        "id": "zqNP-7kkWdHp",
        "colab_type": "code",
        "outputId": "06f80e36-dc6f-470b-f8ec-ee60401b0e7a",
        "colab": {
          "base_uri": "https://localhost:8080/",
          "height": 34
        }
      },
      "cell_type": "code",
      "source": [
        "#　リスト＋リストは　リストの連結\n",
        "x+y"
      ],
      "execution_count": 0,
      "outputs": [
        {
          "output_type": "execute_result",
          "data": {
            "text/plain": [
              "[1, 2, 10, 100]"
            ]
          },
          "metadata": {
            "tags": []
          },
          "execution_count": 2
        }
      ]
    },
    {
      "metadata": {
        "id": "ggr3TOFuWdH3",
        "colab_type": "code",
        "outputId": "7729fbc7-6d11-4cfe-ef9c-6d9febc7c614",
        "colab": {
          "base_uri": "https://localhost:8080/",
          "height": 34
        }
      },
      "cell_type": "code",
      "source": [
        "# リスト＊整数は要素の繰り返し\n",
        "# 例えば、リスト*3＝ リスト + リスト +  リスト　と考えれば納得できる\n",
        "x*4 + y"
      ],
      "execution_count": 0,
      "outputs": [
        {
          "output_type": "execute_result",
          "data": {
            "text/plain": [
              "[1, 2, 1, 2, 1, 2, 1, 2, 10, 100]"
            ]
          },
          "metadata": {
            "tags": []
          },
          "execution_count": 5
        }
      ]
    },
    {
      "metadata": {
        "id": "0fxGPQqAWdIC",
        "colab_type": "code",
        "outputId": "8c5fd742-9789-457f-eea6-be9d1d49e397",
        "colab": {
          "base_uri": "https://localhost:8080/",
          "height": 166
        }
      },
      "cell_type": "code",
      "source": [
        "# リスト  * 　リスト　はエラー\n",
        "x*y"
      ],
      "execution_count": 0,
      "outputs": [
        {
          "output_type": "error",
          "ename": "TypeError",
          "evalue": "ignored",
          "traceback": [
            "\u001b[0;31m---------------------------------------------------------------------------\u001b[0m",
            "\u001b[0;31mTypeError\u001b[0m                                 Traceback (most recent call last)",
            "\u001b[0;32m<ipython-input-7-7a2c1caf0dad>\u001b[0m in \u001b[0;36m<module>\u001b[0;34m()\u001b[0m\n\u001b[0;32m----> 1\u001b[0;31m \u001b[0mx\u001b[0m\u001b[0;34m*\u001b[0m\u001b[0my\u001b[0m\u001b[0;34m\u001b[0m\u001b[0;34m\u001b[0m\u001b[0m\n\u001b[0m",
            "\u001b[0;31mTypeError\u001b[0m: can't multiply sequence by non-int of type 'list'"
          ]
        }
      ]
    },
    {
      "metadata": {
        "id": "XTuOGTvkWdIN",
        "colab_type": "code",
        "outputId": "24e4b2ef-5d79-4c41-807f-1649c65a2018",
        "colab": {
          "base_uri": "https://localhost:8080/",
          "height": 34
        }
      },
      "cell_type": "code",
      "source": [
        "toys = {\"PS4\":36400, \"Switch\":32800, \"XBOX\":19200}\n",
        "sum(list(toys.values()))"
      ],
      "execution_count": 0,
      "outputs": [
        {
          "output_type": "execute_result",
          "data": {
            "text/plain": [
              "88400"
            ]
          },
          "metadata": {
            "tags": []
          },
          "execution_count": 12
        }
      ]
    },
    {
      "metadata": {
        "id": "Gvsn7SQvYHRz",
        "colab_type": "code",
        "outputId": "430a629d-f918-43ec-9559-59a3a28ab99d",
        "colab": {
          "base_uri": "https://localhost:8080/",
          "height": 34
        }
      },
      "cell_type": "code",
      "source": [
        "toys = {\"PS4\":\"36400円\", \"Switch\":\"32800円\", \"XBOX\":\"19200円\"}\n",
        "list(toys.values())"
      ],
      "execution_count": 0,
      "outputs": [
        {
          "output_type": "execute_result",
          "data": {
            "text/plain": [
              "['36400円', '32800円', '19200円']"
            ]
          },
          "metadata": {
            "tags": []
          },
          "execution_count": 13
        }
      ]
    },
    {
      "metadata": {
        "id": "avLbBqbAZdJb",
        "colab_type": "code",
        "outputId": "f5412b48-2e2a-4ac7-c133-4992e86f6a41",
        "colab": {
          "base_uri": "https://localhost:8080/",
          "height": 34
        }
      },
      "cell_type": "code",
      "source": [
        "[x[:-1] for x in list(toys.values())]"
      ],
      "execution_count": 0,
      "outputs": [
        {
          "output_type": "execute_result",
          "data": {
            "text/plain": [
              "['36400', '32800', '19200']"
            ]
          },
          "metadata": {
            "tags": []
          },
          "execution_count": 20
        }
      ]
    },
    {
      "metadata": {
        "id": "Fq_I_fUtZmA4",
        "colab_type": "code",
        "outputId": "240f65bb-1b80-4470-fa6c-ee83a88ab934",
        "colab": {
          "base_uri": "https://localhost:8080/",
          "height": 34
        }
      },
      "cell_type": "code",
      "source": [
        "[eval(x[:-1]) for x in list(toys.values())]"
      ],
      "execution_count": 0,
      "outputs": [
        {
          "output_type": "execute_result",
          "data": {
            "text/plain": [
              "[36400, 32800, 19200]"
            ]
          },
          "metadata": {
            "tags": []
          },
          "execution_count": 21
        }
      ]
    },
    {
      "metadata": {
        "id": "gFeHGtBUaeHy",
        "colab_type": "code",
        "outputId": "de25a3c6-db15-481b-9c36-59d6e2786e72",
        "colab": {
          "base_uri": "https://localhost:8080/",
          "height": 34
        }
      },
      "cell_type": "code",
      "source": [
        "sum([eval(x[:-1]) for x in list(toys.values())])"
      ],
      "execution_count": 0,
      "outputs": [
        {
          "output_type": "execute_result",
          "data": {
            "text/plain": [
              "88400"
            ]
          },
          "metadata": {
            "tags": []
          },
          "execution_count": 22
        }
      ]
    },
    {
      "metadata": {
        "id": "TEfnuUwcaioi",
        "colab_type": "code",
        "outputId": "db210468-e004-473d-f9f7-da689463bf1f",
        "colab": {
          "base_uri": "https://localhost:8080/",
          "height": 34
        }
      },
      "cell_type": "code",
      "source": [
        "[10==10, \"a\" in \"gudaguda\", 10 == 30, \"abc\" != \"def\"]"
      ],
      "execution_count": 0,
      "outputs": [
        {
          "output_type": "execute_result",
          "data": {
            "text/plain": [
              "[True, True, False, True]"
            ]
          },
          "metadata": {
            "tags": []
          },
          "execution_count": 26
        }
      ]
    },
    {
      "metadata": {
        "id": "5U9uiQyFa8_8",
        "colab_type": "code",
        "outputId": "3a95f31d-4408-4e2c-ab4e-cd84339dbc19",
        "colab": {
          "base_uri": "https://localhost:8080/",
          "height": 166
        }
      },
      "cell_type": "code",
      "source": [
        "dict1.update(dict2)"
      ],
      "execution_count": 0,
      "outputs": [
        {
          "output_type": "error",
          "ename": "NameError",
          "evalue": "ignored",
          "traceback": [
            "\u001b[0;31m---------------------------------------------------------------------------\u001b[0m",
            "\u001b[0;31mNameError\u001b[0m                                 Traceback (most recent call last)",
            "\u001b[0;32m<ipython-input-27-2546fd35c5ef>\u001b[0m in \u001b[0;36m<module>\u001b[0;34m()\u001b[0m\n\u001b[0;32m----> 1\u001b[0;31m \u001b[0mdict1\u001b[0m\u001b[0;34m.\u001b[0m\u001b[0mupdate\u001b[0m\u001b[0;34m(\u001b[0m\u001b[0mdict2\u001b[0m\u001b[0;34m)\u001b[0m\u001b[0;34m\u001b[0m\u001b[0;34m\u001b[0m\u001b[0m\n\u001b[0m",
            "\u001b[0;31mNameError\u001b[0m: name 'dict1' is not defined"
          ]
        }
      ]
    },
    {
      "metadata": {
        "id": "G8URBa9qcix2",
        "colab_type": "code",
        "outputId": "b718a4bb-0926-44ec-b396-4d022321027d",
        "colab": {
          "base_uri": "https://localhost:8080/",
          "height": 34
        }
      },
      "cell_type": "code",
      "source": [
        "{0: 'A', 1: 'K', 2: 'Q', 3: 'J', 5: 'X', 6: 'Y'}"
      ],
      "execution_count": 0,
      "outputs": [
        {
          "output_type": "execute_result",
          "data": {
            "text/plain": [
              "{0: 'A', 1: 'K', 2: 'Q', 3: 'J', 5: 'X', 6: 'Y'}"
            ]
          },
          "metadata": {
            "tags": []
          },
          "execution_count": 29
        }
      ]
    },
    {
      "metadata": {
        "id": "8-Q_7cDfc2iN",
        "colab_type": "code",
        "colab": {}
      },
      "cell_type": "code",
      "source": [
        "dict1 = { 0:'A', 2:'Q', 3:'J' }"
      ],
      "execution_count": 0,
      "outputs": []
    },
    {
      "metadata": {
        "id": "ihXMsVV2c3hR",
        "colab_type": "code",
        "colab": {}
      },
      "cell_type": "code",
      "source": [
        "dict2 = {1:'K',5:'X',6:'Y'}"
      ],
      "execution_count": 0,
      "outputs": []
    },
    {
      "metadata": {
        "id": "BZCyg3g_dOIW",
        "colab_type": "code",
        "colab": {}
      },
      "cell_type": "code",
      "source": [
        "dict1.update(dict2)"
      ],
      "execution_count": 0,
      "outputs": []
    },
    {
      "metadata": {
        "id": "bz1_SDOvdRiO",
        "colab_type": "code",
        "outputId": "cce4782a-0b92-4c93-f352-9f3f340253cb",
        "colab": {
          "base_uri": "https://localhost:8080/",
          "height": 34
        }
      },
      "cell_type": "code",
      "source": [
        "dict1"
      ],
      "execution_count": 0,
      "outputs": [
        {
          "output_type": "execute_result",
          "data": {
            "text/plain": [
              "{0: 'A', 1: 'K', 2: 'Q', 3: 'J', 5: 'X', 6: 'Y'}"
            ]
          },
          "metadata": {
            "tags": []
          },
          "execution_count": 33
        }
      ]
    },
    {
      "metadata": {
        "id": "oTE91UOYdU1V",
        "colab_type": "code",
        "colab": {}
      },
      "cell_type": "code",
      "source": [
        ""
      ],
      "execution_count": 0,
      "outputs": []
    }
  ]
}