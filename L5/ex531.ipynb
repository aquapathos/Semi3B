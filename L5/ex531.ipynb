{
  "nbformat": 4,
  "nbformat_minor": 0,
  "metadata": {
    "colab": {
      "name": "ex531.ipynb",
      "version": "0.3.2",
      "provenance": [],
      "collapsed_sections": [],
      "include_colab_link": true
    },
    "kernelspec": {
      "name": "python3",
      "display_name": "Python 3"
    }
  },
  "cells": [
    {
      "cell_type": "markdown",
      "metadata": {
        "id": "view-in-github",
        "colab_type": "text"
      },
      "source": [
        "<a href=\"https://colab.research.google.com/github/aquapathos/Semi3B/blob/master/L5/ex531.ipynb\" target=\"_parent\"><img src=\"https://colab.research.google.com/assets/colab-badge.svg\" alt=\"Open In Colab\"/></a>"
      ]
    },
    {
      "metadata": {
        "id": "szg5JKFwkFnQ",
        "colab_type": "code",
        "colab": {}
      },
      "cell_type": "code",
      "source": [
        "!rm bijin.py\n",
        "!wget https://raw.githubusercontent.com/aquapathos/Semi3B/master/L4/bijin.py\n",
        "\n",
        "# ex531.py\n",
        "import cv2\n",
        "from bijin import *\n",
        "from google.colab.patches import cv2_imshow\n",
        " \n",
        "fname = \"bijin.jpg\"\n",
        "bijin(fname) # 美人時計の現時刻の画像を カレントディレクトリのtmp に一時保存\n",
        "src_img = cv2.imread(fname)\n",
        " \n",
        "# カラーからグレーへの変換\n",
        "dst_img = cv2.cvtColor(src_img,cv2.COLOR_BGR2GRAY)\n",
        " \n",
        "cv2_imshow(src_img)\n",
        "print(\"COLOR\\n\")\n",
        "cv2_imshow(dst_img)\n",
        "print(\"GRAY\")\n",
        " \n",
        "#cv2.waitKey(0)\n",
        "#cv2.destroyAllWindows()"
      ],
      "execution_count": 0,
      "outputs": []
    },
    {
      "metadata": {
        "id": "om9kYqC2kPcZ",
        "colab_type": "code",
        "colab": {}
      },
      "cell_type": "code",
      "source": [
        ""
      ],
      "execution_count": 0,
      "outputs": []
    }
  ]
}