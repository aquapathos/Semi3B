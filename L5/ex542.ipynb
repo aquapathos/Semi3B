{
  "nbformat": 4,
  "nbformat_minor": 0,
  "metadata": {
    "colab": {
      "name": "ex542.ipynb",
      "version": "0.3.2",
      "provenance": [],
      "collapsed_sections": [],
      "include_colab_link": true
    },
    "kernelspec": {
      "name": "python3",
      "display_name": "Python 3"
    }
  },
  "cells": [
    {
      "cell_type": "markdown",
      "metadata": {
        "id": "view-in-github",
        "colab_type": "text"
      },
      "source": [
        "<a href=\"https://colab.research.google.com/github/aquapathos/Semi3B/blob/master/L5/ex542.ipynb\" target=\"_parent\"><img src=\"https://colab.research.google.com/assets/colab-badge.svg\" alt=\"Open In Colab\"/></a>"
      ]
    },
    {
      "metadata": {
        "id": "_MWfHJO1nS6-",
        "colab_type": "code",
        "colab": {}
      },
      "cell_type": "code",
      "source": [
        "# ex542.py\n",
        "import cv2\n",
        "from google.colab.patches import cv2_imshow\n",
        "from matplotlib import pyplot as plt\n",
        "from bijin import *\n",
        " \n",
        "fname = \"bijin.jpg\"\n",
        "bijin(fname) # 美人時計の現時刻の画像を カレントディレクトリのtmp に一時保存\n",
        "img = cv2.imread(fname)\n",
        " \n",
        "# カラーからグレーへの変換\n",
        "gimg = cv2.cvtColor(img,cv2.COLOR_BGR2GRAY)\n",
        " \n",
        "# Threshold による２値化\n",
        "thres = 100\n",
        "maxval = 255\n",
        "ret,TB = cv2.threshold(gimg,thres,maxval,cv2.THRESH_BINARY)\n",
        "ret,TBINV = cv2.threshold(gimg,thres,maxval,cv2.THRESH_BINARY_INV)\n",
        "ret,TRUNC = cv2.threshold(gimg,thres,maxval,cv2.THRESH_TRUNC)\n",
        "ret,TOZERO = cv2.threshold(gimg,thres,maxval,cv2.THRESH_TOZERO)\n",
        "ret,TZINV = cv2.threshold(gimg,thres,maxval,cv2.THRESH_TOZERO_INV)\n",
        "ret,OTSU = cv2.threshold(gimg,thres,maxval,cv2.THRESH_OTSU )\n",
        " \n",
        "pics = ['TB','TBINV','TRUNC','TOZERO','TZINV','OTSU']\n",
        "\n",
        "plt.figure(figsize=(10, 5))\n",
        "\n",
        "for i in range(6):\n",
        "    plt.subplot(2,3,i+1),plt.imshow(eval(pics[i]),\"gray\")\n",
        "    plt.title(pics[i])\n",
        "    plt.axis(\"off\")\n",
        " \n",
        "#cv2.imshow(\"original\",img)\n",
        "#plt.show()\n",
        "#cv2.waitKey(0)\n",
        "#cv2.destroyAllWindows()\n",
        " "
      ],
      "execution_count": 0,
      "outputs": []
    },
    {
      "metadata": {
        "id": "Y79uU5fpngW7",
        "colab_type": "code",
        "colab": {}
      },
      "cell_type": "code",
      "source": [
        ""
      ],
      "execution_count": 0,
      "outputs": []
    }
  ]
}