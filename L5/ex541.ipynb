{
  "nbformat": 4,
  "nbformat_minor": 0,
  "metadata": {
    "colab": {
      "name": "ex541.ipynb",
      "version": "0.3.2",
      "provenance": [],
      "collapsed_sections": [],
      "include_colab_link": true
    },
    "kernelspec": {
      "name": "python3",
      "display_name": "Python 3"
    }
  },
  "cells": [
    {
      "cell_type": "markdown",
      "metadata": {
        "id": "view-in-github",
        "colab_type": "text"
      },
      "source": [
        "<a href=\"https://colab.research.google.com/github/aquapathos/Semi3B/blob/master/L5/ex541.ipynb\" target=\"_parent\"><img src=\"https://colab.research.google.com/assets/colab-badge.svg\" alt=\"Open In Colab\"/></a>"
      ]
    },
    {
      "metadata": {
        "id": "GP5Qe89imEZa",
        "colab_type": "code",
        "colab": {}
      },
      "cell_type": "code",
      "source": [
        "# ex541.py\n",
        "import cv2\n",
        "from bijin import *\n",
        "from google.colab.patches import cv2_imshow\n",
        " \n",
        "fname = \"bijin.jpg\"\n",
        "bijin(fname) # 美人時計の現時刻の画像を カレントディレクトリのtmp に一時保存\n",
        "src_img = cv2.imread(fname)\n",
        " \n",
        "# カラーからグレーへの変換\n",
        "dst_img = cv2.cvtColor(src_img,cv2.COLOR_BGR2GRAY)\n",
        " \n",
        "# Threshold による２値化\n",
        "thres = 90\n",
        "maxval = 255\n",
        "ret, dst_img = cv2.threshold(dst_img,thres,maxval,cv2.THRESH_BINARY)\n",
        "cv2_imshow(src_img)\n",
        "print(\"COLOR\\n\")\n",
        "\n",
        "cv2_imshow(dst_img)\n",
        "print(\"BIN\")\n",
        "\n",
        "#cv2.waitKey(0)\n",
        "#cv2.destroyAllWindows()"
      ],
      "execution_count": 0,
      "outputs": []
    },
    {
      "metadata": {
        "id": "T6lKx6-pmOR_",
        "colab_type": "code",
        "colab": {}
      },
      "cell_type": "code",
      "source": [
        ""
      ],
      "execution_count": 0,
      "outputs": []
    }
  ]
}