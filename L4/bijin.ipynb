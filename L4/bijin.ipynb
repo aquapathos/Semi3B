{
  "nbformat": 4,
  "nbformat_minor": 0,
  "metadata": {
    "colab": {
      "name": "bijin.ipynb",
      "version": "0.3.2",
      "provenance": [],
      "collapsed_sections": [],
      "include_colab_link": true
    },
    "kernelspec": {
      "name": "python3",
      "display_name": "Python 3"
    }
  },
  "cells": [
    {
      "cell_type": "markdown",
      "metadata": {
        "id": "view-in-github",
        "colab_type": "text"
      },
      "source": [
        "<a href=\"https://colab.research.google.com/github/aquapathos/Semi3B/blob/master/L4/bijin.ipynb\" target=\"_parent\"><img src=\"https://colab.research.google.com/assets/colab-badge.svg\" alt=\"Open In Colab\"/></a>"
      ]
    },
    {
      "metadata": {
        "id": "ZNXJb5vkEPOu",
        "colab_type": "code",
        "colab": {}
      },
      "cell_type": "code",
      "source": [
        "import datetime\n",
        "import urllib.request\n",
        "import cv2\n",
        "import os\n",
        "from google.colab.patches import cv2_imshow\n",
        " \n",
        "def timestr():\n",
        "  d = datetime.datetime.today()\n",
        "  h = d.hour\n",
        "  m = d.minute\n",
        "  s = str(h)\n",
        "  if h<10 :\n",
        "    s = \"0\"+s\n",
        "  if m<10 :\n",
        "    s = s+\"0\"\n",
        "  s = s+str(m)\n",
        "  return s\n",
        " \n",
        "def bijin(fname):\n",
        "  url = 'http://www.bijint.com/assets/pict/osaka/pc/'\n",
        "  url = url+timestr()+'.jpg'\n",
        "  file = open(fname,'wb')\n",
        "  opener = urllib.request.build_opener()\n",
        "  req = urllib.request.Request(url)\n",
        "  req.add_header('Referer', \"http://bijint.com/assets/pict/osaka/pc\")\n",
        "  file.write(opener.open(req).read())\n",
        "  file.close()\n",
        " \n",
        "def main():\n",
        "  fname = \"pic_tmp_tmp.png\"\n",
        "  bijin(fname) # 美人時計の現時刻の画像を カレントディレクトリのfname に一時保存\n",
        "  img = cv2.imread(fname,1) # fnameの画像を読み込み\n",
        "  cv2_imshow(img)\n",
        "  os.remove(fname) # 一時ファイルの削除\n",
        " \n",
        "if __name__ == '__main__':\n",
        "  main()"
      ],
      "execution_count": 0,
      "outputs": []
    },
    {
      "metadata": {
        "id": "PfjZEap-EXpO",
        "colab_type": "code",
        "colab": {}
      },
      "cell_type": "code",
      "source": [
        ""
      ],
      "execution_count": 0,
      "outputs": []
    }
  ]
}