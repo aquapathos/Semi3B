{
  "nbformat": 4,
  "nbformat_minor": 0,
  "metadata": {
    "colab": {
      "name": " L4_1.ipynb",
      "version": "0.3.2",
      "provenance": [],
      "collapsed_sections": [],
      "include_colab_link": true
    },
    "kernelspec": {
      "name": "python3",
      "display_name": "Python 3"
    }
  },
  "cells": [
    {
      "cell_type": "markdown",
      "metadata": {
        "id": "view-in-github",
        "colab_type": "text"
      },
      "source": [
        "<a href=\"https://colab.research.google.com/github/aquapathos/Semi3B/blob/master/L4/L4_1.ipynb\" target=\"_parent\"><img src=\"https://colab.research.google.com/assets/colab-badge.svg\" alt=\"Open In Colab\"/></a>"
      ]
    },
    {
      "metadata": {
        "id": "1O--EdTyuToT",
        "colab_type": "text"
      },
      "cell_type": "markdown",
      "source": [
        "![仮のprof.jpg](http://farm1.static.flickr.com/139/379569962_a9bf6a1600.jpg)\n",
        "\n",
        "* [ImageNet](http://image-net.org/explore.php)"
      ]
    },
    {
      "metadata": {
        "id": "l5LLakgq3k8c",
        "colab_type": "text"
      },
      "cell_type": "markdown",
      "source": [
        "# ローカルマシンで実行する場合\n",
        "次のコードは Google Colaboratory では動きません。\n"
      ]
    },
    {
      "metadata": {
        "id": "6mrYUVN3oWEg",
        "colab_type": "code",
        "colab": {}
      },
      "cell_type": "code",
      "source": [
        "import cv2\n",
        "file = \"prof.jpg\" # (拡張子は各自の画像によって異なる）\n",
        "img = cv2.imread(file,-1)\n",
        "cv2.imshow(\"Title\",img)\n",
        "cv2.waitKey(0)\n",
        "cv2.destroyAllWindows()"
      ],
      "execution_count": 0,
      "outputs": []
    },
    {
      "metadata": {
        "id": "2yKwfnui3_mn",
        "colab_type": "text"
      },
      "cell_type": "markdown",
      "source": [
        "# Google Colaboratory専用コード"
      ]
    },
    {
      "metadata": {
        "id": "DUYxxZhIozLT",
        "colab_type": "code",
        "colab": {}
      },
      "cell_type": "code",
      "source": [
        "# ファイルのアップロード\n",
        "from google.colab import files\n",
        "uploaded = files.upload() # prof.jpg をアップロードする\n",
        "import cv2\n",
        "from google.colab.patches import cv2_imshow\n",
        "img=cv2.imread('prof.jpg',-1)\n",
        "cv2_imshow(img)"
      ],
      "execution_count": 0,
      "outputs": []
    },
    {
      "metadata": {
        "id": "8AqYqPlY4W8K",
        "colab_type": "code",
        "colab": {}
      },
      "cell_type": "code",
      "source": [
        ""
      ],
      "execution_count": 0,
      "outputs": []
    }
  ]
}