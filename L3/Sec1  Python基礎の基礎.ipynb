{
  "nbformat": 4,
  "nbformat_minor": 0,
  "metadata": {
    "colab": {
      "name": "Sec1  Python基礎の基礎.ipynb",
      "version": "0.3.2",
      "provenance": [],
      "include_colab_link": true
    },
    "kernelspec": {
      "display_name": "Python 3",
      "language": "python",
      "name": "python3"
    }
  },
  "cells": [
    {
      "cell_type": "markdown",
      "metadata": {
        "id": "view-in-github",
        "colab_type": "text"
      },
      "source": [
        "<a href=\"https://colab.research.google.com/github/aquapathos/Semi3B/blob/master/Sec1%20%20Python%E5%9F%BA%E7%A4%8E%E3%81%AE%E5%9F%BA%E7%A4%8E.ipynb\" target=\"_parent\"><img src=\"https://colab.research.google.com/assets/colab-badge.svg\" alt=\"Open In Colab\"/></a>"
      ]
    },
    {
      "metadata": {
        "id": "kfKNMx7JeZTf",
        "colab_type": "text"
      },
      "cell_type": "markdown",
      "source": [
        "# 変数と算術演算\n",
        "\n",
        "##  変数\n",
        "- 変数というのは箱みたいなものだと思えば良い\n",
        "- 箱にものを入れることを、変数への代入という\n",
        "- 変数には、数値、文字、データフレーム、画像など様々なオブジェクトが入る\n",
        "\n",
        "## 算術演算\n",
        "\n",
        "| 演算| 記号|\n",
        "|:--:|:--:|\n",
        "|たし算|+|\n",
        "|ひき算|-|\n",
        "|かけ算|* |\n",
        "|わり算|/|\n",
        "|べき乗|**|\n",
        "|切り捨てわり算|// |\n",
        "|わった余り|%|\n",
        "|整数化| int(式)|\n",
        "|浮動小数点数化|float(式）|\n"
      ]
    },
    {
      "metadata": {
        "id": "D0wVzsdieZTo",
        "colab_type": "code",
        "colab": {}
      },
      "cell_type": "code",
      "source": [
        "a = 4\n",
        "print(9/a)\n",
        "print(9//a)\n",
        "print(9%a)\n",
        "print(9 - (2*a))"
      ],
      "execution_count": 0,
      "outputs": []
    },
    {
      "metadata": {
        "id": "yf5o7DvEeZT3",
        "colab_type": "code",
        "colab": {}
      },
      "cell_type": "code",
      "source": [
        "x,y,z = 25,80,9.12345  # ３変数に同時に代入\n",
        "print(type(z))\n",
        "x_float = float(x)  # 整数から浮動小数点数への変換\n",
        "print(x_float)\n",
        "z_int = int(z) # 浮動小数点数から整数への変換\n",
        "print(type(z_int))"
      ],
      "execution_count": 0,
      "outputs": []
    },
    {
      "metadata": {
        "id": "Sn3JbHcAeZUC",
        "colab_type": "text"
      },
      "cell_type": "markdown",
      "source": [
        "# 真理値と比較演算子\n",
        "\n",
        "## 比較演算子\n",
        "- <  　小なり　　  \n",
        "- \\>　大なり    \n",
        "- \\>=　大なり、または等しい    \n",
        "- <=　小なり、または等しい    \n",
        "- ==　等しい    \n",
        "- !=　異なる\n",
        " \n",
        " ## 真理値\n",
        "- True  真\n",
        "- False 偽\n",
        " \n",
        " ## 論理演算子\n",
        "- not 否定    \n",
        "- and 論理積    \n",
        "- or 論理和    "
      ]
    },
    {
      "metadata": {
        "id": "m0i-cInTeZUF",
        "colab_type": "code",
        "colab": {}
      },
      "cell_type": "code",
      "source": [
        "#  数式中に使うと　Trueは１、False は０として扱われる\n",
        "print(\"3*True + 2*False = \",3*True + 2*False)"
      ],
      "execution_count": 0,
      "outputs": []
    },
    {
      "metadata": {
        "id": "WHlLfGKdeZUa",
        "colab_type": "code",
        "colab": {}
      },
      "cell_type": "code",
      "source": [
        "True == 1 # Trueは整数の１に等しい"
      ],
      "execution_count": 0,
      "outputs": []
    },
    {
      "metadata": {
        "id": "xxUUC0gHeZUi",
        "colab_type": "code",
        "colab": {}
      },
      "cell_type": "code",
      "source": [
        "False == 0 # Falseは整数の０に等しい"
      ],
      "execution_count": 0,
      "outputs": []
    },
    {
      "metadata": {
        "id": "fVBIZPsLeZUp",
        "colab_type": "code",
        "colab": {}
      },
      "cell_type": "code",
      "source": [
        "not not False # 二重否定"
      ],
      "execution_count": 0,
      "outputs": []
    },
    {
      "metadata": {
        "id": "sn6lUydgeZUx",
        "colab_type": "code",
        "colab": {}
      },
      "cell_type": "code",
      "source": [
        "True and not True"
      ],
      "execution_count": 0,
      "outputs": []
    },
    {
      "metadata": {
        "id": "zp1P4utNeZU6",
        "colab_type": "code",
        "colab": {}
      },
      "cell_type": "code",
      "source": [
        "10 !=  100"
      ],
      "execution_count": 0,
      "outputs": []
    },
    {
      "metadata": {
        "id": "fCSf6IB-eZVE",
        "colab_type": "code",
        "colab": {}
      },
      "cell_type": "code",
      "source": [
        "200 > 120"
      ],
      "execution_count": 0,
      "outputs": []
    },
    {
      "metadata": {
        "id": "3l6yxiBueZVP",
        "colab_type": "code",
        "colab": {}
      },
      "cell_type": "code",
      "source": [
        "not 200 > 120"
      ],
      "execution_count": 0,
      "outputs": []
    },
    {
      "metadata": {
        "id": "25ilevuweZVZ",
        "colab_type": "code",
        "colab": {}
      },
      "cell_type": "code",
      "source": [
        "100  >= 100 or 10 != 10"
      ],
      "execution_count": 0,
      "outputs": []
    },
    {
      "metadata": {
        "id": "-ZHadl8ueZVi",
        "colab_type": "code",
        "colab": {}
      },
      "cell_type": "code",
      "source": [
        "a = \"man\"; b = \"man\"; c = \"human\"  # C や Java のように、; で文を区切ることもできる "
      ],
      "execution_count": 0,
      "outputs": []
    },
    {
      "metadata": {
        "id": "2dhADeffeZVq",
        "colab_type": "code",
        "colab": {}
      },
      "cell_type": "code",
      "source": [
        "a == b"
      ],
      "execution_count": 0,
      "outputs": []
    },
    {
      "metadata": {
        "id": "ePAeeCuXeZVy",
        "colab_type": "code",
        "colab": {}
      },
      "cell_type": "code",
      "source": [
        "a == c"
      ],
      "execution_count": 0,
      "outputs": []
    },
    {
      "metadata": {
        "id": "OS2o-IPWeZV6",
        "colab_type": "code",
        "colab": {}
      },
      "cell_type": "code",
      "source": [
        "\"m\" in b # 「文字列 \"m\" は b に含まれるか？」　→ True/False"
      ],
      "execution_count": 0,
      "outputs": []
    },
    {
      "metadata": {
        "id": "u6phNCbKeZWI",
        "colab_type": "code",
        "colab": {}
      },
      "cell_type": "code",
      "source": [
        "\"hum\" in c"
      ],
      "execution_count": 0,
      "outputs": []
    },
    {
      "metadata": {
        "id": "RV3HgEK0eZWV",
        "colab_type": "code",
        "colab": {}
      },
      "cell_type": "code",
      "source": [
        "a in c"
      ],
      "execution_count": 0,
      "outputs": []
    },
    {
      "metadata": {
        "id": "zw78pL_1eZWj",
        "colab_type": "code",
        "colab": {}
      },
      "cell_type": "code",
      "source": [
        "# ３つ以上の式の比較をまとめて判定\n",
        "10 < 20 < 30"
      ],
      "execution_count": 0,
      "outputs": []
    },
    {
      "metadata": {
        "id": "V1MTc2Q9eZWz",
        "colab_type": "code",
        "colab": {}
      },
      "cell_type": "code",
      "source": [
        "10 < 20 < 4"
      ],
      "execution_count": 0,
      "outputs": []
    },
    {
      "metadata": {
        "id": "2Da_DGmceZW5",
        "colab_type": "code",
        "colab": {}
      },
      "cell_type": "code",
      "source": [
        "10 < 5 < 9 or 10 == 100/10  > 5"
      ],
      "execution_count": 0,
      "outputs": []
    },
    {
      "metadata": {
        "id": "J5b4j7SYeZXE",
        "colab_type": "text"
      },
      "cell_type": "markdown",
      "source": [
        "# 文字列\n",
        "\n",
        "文字列の例 　　\"abc\"   '山田太郎'\n",
        "\n",
        "- Python では　””で囲まれた文字列と’’で囲まれた文字列は区別されない\n",
        "- 比較演算子 ==, > など で比較できる　（　← C言語と大きく違う点）\n",
        "-  == は同一の文字列かどうか\n",
        "-  <, >, >=, <=  は辞書式順序の前後関係が比較される\n",
        "\n",
        "\n",
        "**len( 文字列） **  文字列のながさ    \n",
        "**文字列.upper()**   大文字に変換    \n",
        "**文字列.lower()**    小文字に変換\n",
        "\n",
        "python２では日本語文字列と英語文字列は扱い方が別であったが、python3では世界各国の文字を統一的に扱う UTFコードが全面的に使用されるようになり、英文字も日本語も１文字は１文字としてカウントされる。\n",
        "\n",
        "記憶容量的には全角文字１文字は英数文字２文字分の容量を占める。このため、歴史的には全角１文字を２文字としてカウントするような言語、あるいは言語のバージョンが存在し、現在もまだ残っているので注意が必要である。\n",
        "\n",
        "- **改行文字**  \\\\n\n",
        "\n",
        "例   print(\"abc\\\\ndef\")\n",
        "~~~\n",
        "abc    \n",
        "def~~~\n",
        "\n",
        "- 改行やスペースも１文字としてカウントされる\n",
        "- C言語では文字列の終わりに終端記号　\\\\0　が入り、１文字としてカウントされるが、Python の文字列には終端記号はない\n",
        "\n",
        "- **print(式, sep=セパレータ, end=終了文字)** \n",
        "\n",
        "#### 例\n",
        "~~~\n",
        "print(\"A\",122,\"B\",10,sep=\"=\", end=\"\")\n",
        "print(\"続き\")\n",
        "print(\"さらに続き\")\n",
        "\n",
        "A=122=B=10続き\n",
        "さらに続き\n",
        "~~~\n"
      ]
    },
    {
      "metadata": {
        "id": "NLsMqdwgeZXI",
        "colab_type": "code",
        "colab": {}
      },
      "cell_type": "code",
      "source": [
        "\"abc\" == 'abc'"
      ],
      "execution_count": 0,
      "outputs": []
    },
    {
      "metadata": {
        "id": "3oaHokOueZXT",
        "colab_type": "code",
        "colab": {}
      },
      "cell_type": "code",
      "source": [
        "\"abce\" > \"abgaab\""
      ],
      "execution_count": 0,
      "outputs": []
    },
    {
      "metadata": {
        "id": "uHBzT-FKeZXd",
        "colab_type": "code",
        "colab": {}
      },
      "cell_type": "code",
      "source": [
        "'abc'.upper()"
      ],
      "execution_count": 0,
      "outputs": []
    },
    {
      "metadata": {
        "id": "xo3bwIIkeZXl",
        "colab_type": "code",
        "colab": {}
      },
      "cell_type": "code",
      "source": [
        "st = \"100万年早いぜ\" # 全角文字も１文字は１文字\n",
        "len(st)"
      ],
      "execution_count": 0,
      "outputs": []
    },
    {
      "metadata": {
        "id": "_FNcsAgLeZXt",
        "colab_type": "code",
        "colab": {}
      },
      "cell_type": "code",
      "source": [
        "print(\"abc\\ndef\")  # 改行文字 \\n の動作確認"
      ],
      "execution_count": 0,
      "outputs": []
    },
    {
      "metadata": {
        "id": "6pk6v-lCeZX3",
        "colab_type": "code",
        "colab": {}
      },
      "cell_type": "code",
      "source": [
        "len(\"abc\\ndef\") # 改行文字 \\n は１文字とカウントされる"
      ],
      "execution_count": 0,
      "outputs": []
    },
    {
      "metadata": {
        "id": "Ph6nEoMAeZYA",
        "colab_type": "code",
        "colab": {}
      },
      "cell_type": "code",
      "source": [
        "#  文字列に区切り記号を入れる\n",
        "print(\"AAA\",\"CCC\",\"DDD\", sep=\"-\", end = \"!!\")"
      ],
      "execution_count": 0,
      "outputs": []
    },
    {
      "metadata": {
        "id": "uoXO0ULceZYH",
        "colab_type": "code",
        "colab": {}
      },
      "cell_type": "code",
      "source": [
        "# 文字列の連結\n",
        "lang = \"Python\"\n",
        "\"We study \" + lang + \" everyday.\""
      ],
      "execution_count": 0,
      "outputs": []
    },
    {
      "metadata": {
        "id": "2Uxe-otLeZYO",
        "colab_type": "code",
        "colab": {}
      },
      "cell_type": "code",
      "source": [
        "2*lang # 文字列の繰り返し"
      ],
      "execution_count": 0,
      "outputs": []
    },
    {
      "metadata": {
        "id": "iJdn47vReZYX",
        "colab_type": "code",
        "colab": {}
      },
      "cell_type": "code",
      "source": [
        "# 文字としての数式を評価する\n",
        "40 + \"40/5\" # エラー"
      ],
      "execution_count": 0,
      "outputs": []
    },
    {
      "metadata": {
        "id": "oJd2M8m2eZYd",
        "colab_type": "code",
        "colab": {}
      },
      "cell_type": "code",
      "source": [
        "40+eval(\"40/5\")"
      ],
      "execution_count": 0,
      "outputs": []
    },
    {
      "metadata": {
        "id": "_PyC_rnjeZYr",
        "colab_type": "text"
      },
      "cell_type": "markdown",
      "source": [
        "# 文字列の操作\n",
        "\n",
        "## 索引付け\n",
        "\n",
        "    hw = \"Hello World!\"    \n",
        "    hw[0] -> 'H'    \n",
        "    hw[1] -> 'e'    \n",
        "    hw[2] -> 'l'    \n",
        "    hw[100] -> エラー\n",
        "\n",
        "## スライス\n",
        "\n",
        "    hw[6:]  -> \"World\"    \n",
        "    hw[:5] -> \"Hello\"\n",
        "    \n",
        "## ストライド\n",
        "\n",
        "    numbers = \"0123456\"    \n",
        "    numbers[::2] -> \"02456\"    \n",
        "    numbers[1::2] -> \"1357\"\n",
        "    \n",
        "\n",
        "## フォーマット\n",
        "\n",
        "    prize = [\"金\",\"銀\",\"銅\"]\n",
        "    gain = [2,5,4]\n",
        "    result = \"オリンピックメダル　{}{}, {}{}, {}{}\".format(prize[0],gain[0],prize[1],gain[1],prize[1],gain[1])\n",
        "    \n",
        "    フォーマットの簡易表記\n",
        "    \"%d  %d  %.2f\" % (10, 10, 10/3) \n",
        "    m,n = 5, 92\n",
        "    f\"{n} を {m}で割ると、{n//m}あまり{n%m},\\n  {n} に{m}をかけると、{n*m}.\"\n"
      ]
    },
    {
      "metadata": {
        "collapsed": true,
        "id": "Xl_aSvkneZYu",
        "colab_type": "code",
        "colab": {}
      },
      "cell_type": "code",
      "source": [
        "hw = \"Hello World!\"\n",
        "hw[11] # 最初を０として1１文字目"
      ],
      "execution_count": 0,
      "outputs": []
    },
    {
      "metadata": {
        "collapsed": true,
        "id": "tfpQal6seZY8",
        "colab_type": "code",
        "colab": {}
      },
      "cell_type": "code",
      "source": [
        "print(hw[6:]) # 最初を０として６文字目から後\n",
        "print(hw[:5]) # 先頭から５文字"
      ],
      "execution_count": 0,
      "outputs": []
    },
    {
      "metadata": {
        "collapsed": true,
        "id": "Ii844mB9eZZG",
        "colab_type": "code",
        "colab": {}
      },
      "cell_type": "code",
      "source": [
        "numbers = \"0123456789\""
      ],
      "execution_count": 0,
      "outputs": []
    },
    {
      "metadata": {
        "collapsed": true,
        "id": "y61bQafEeZZO",
        "colab_type": "code",
        "colab": {}
      },
      "cell_type": "code",
      "source": [
        "numbers[::2]"
      ],
      "execution_count": 0,
      "outputs": []
    },
    {
      "metadata": {
        "collapsed": true,
        "id": "gslO72v2eZZY",
        "colab_type": "code",
        "colab": {}
      },
      "cell_type": "code",
      "source": [
        "numbers[1::2]"
      ],
      "execution_count": 0,
      "outputs": []
    },
    {
      "metadata": {
        "collapsed": true,
        "id": "JIOExh0yeZZj",
        "colab_type": "code",
        "colab": {}
      },
      "cell_type": "code",
      "source": [
        "numbers[0:7:3]"
      ],
      "execution_count": 0,
      "outputs": []
    },
    {
      "metadata": {
        "collapsed": true,
        "id": "N45PK2t4eZZ6",
        "colab_type": "code",
        "colab": {}
      },
      "cell_type": "code",
      "source": [
        "prize = [\"金\",\"銀\",\"銅\"]\n",
        "gain = [2,5,4]\n",
        "result = \"オリンピックメダル {}{}, {}{}, {}{}\"\n",
        "result.format(prize[0],gain[0],prize[1],gain[1],prize[2],gain[2])"
      ],
      "execution_count": 0,
      "outputs": []
    },
    {
      "metadata": {
        "collapsed": true,
        "id": "i_tk78-2eZaJ",
        "colab_type": "code",
        "colab": {}
      },
      "cell_type": "code",
      "source": [
        "myname = \"山川海彦\"\n",
        "age = 20\n",
        "\"はじめまして。私の名前は{}です。{}歳です。\".format(myname,age)"
      ],
      "execution_count": 0,
      "outputs": []
    },
    {
      "metadata": {
        "id": "AK6hb_oUeZaW",
        "colab_type": "text"
      },
      "cell_type": "markdown",
      "source": [
        "# 課題\n",
        "myname と age のところを自分の名前と年齢に書き換えて試しなさい。"
      ]
    },
    {
      "metadata": {
        "id": "gkRjXH2qeZab",
        "colab_type": "code",
        "colab": {}
      },
      "cell_type": "code",
      "source": [
        "# 簡易フォーマット\n",
        "print(\"%d  %d  %.2f\" % (10, 10, 10/3) )"
      ],
      "execution_count": 0,
      "outputs": []
    },
    {
      "metadata": {
        "id": "IBvcgCATeZam",
        "colab_type": "code",
        "colab": {}
      },
      "cell_type": "code",
      "source": [
        "\" %s  の文字数は %d \" % (myname,len(myname))"
      ],
      "execution_count": 0,
      "outputs": []
    },
    {
      "metadata": {
        "id": "UrRFqwjBeZav",
        "colab_type": "code",
        "colab": {}
      },
      "cell_type": "code",
      "source": [
        "m,n = 5, 92\n",
        "print(f\"{n} を {m}で割ると、{n//m}あまり{n%m},\\n  {n} に{m}をかけると、{n*m}.\")"
      ],
      "execution_count": 0,
      "outputs": []
    },
    {
      "metadata": {
        "id": "R5A311zreZa4",
        "colab_type": "text"
      },
      "cell_type": "markdown",
      "source": [
        ""
      ]
    },
    {
      "metadata": {
        "id": "gHoaKfgAeZbA",
        "colab_type": "text"
      },
      "cell_type": "markdown",
      "source": [
        ""
      ]
    },
    {
      "metadata": {
        "id": "uNNaDZ9CeZbD",
        "colab_type": "code",
        "colab": {}
      },
      "cell_type": "code",
      "source": [
        ""
      ],
      "execution_count": 0,
      "outputs": []
    },
    {
      "metadata": {
        "id": "Z0Jj9FPCeZbN",
        "colab_type": "text"
      },
      "cell_type": "markdown",
      "source": [
        ""
      ]
    },
    {
      "metadata": {
        "id": "10nbQaxreZbO",
        "colab_type": "text"
      },
      "cell_type": "markdown",
      "source": [
        "# 課題\n",
        "上に挙がっている例を実際に試してみよう"
      ]
    },
    {
      "metadata": {
        "id": "TImKzErleZbR",
        "colab_type": "code",
        "colab": {}
      },
      "cell_type": "code",
      "source": [
        ""
      ],
      "execution_count": 0,
      "outputs": []
    },
    {
      "metadata": {
        "id": "8bx6itf5eZba",
        "colab_type": "code",
        "colab": {}
      },
      "cell_type": "code",
      "source": [
        ""
      ],
      "execution_count": 0,
      "outputs": []
    },
    {
      "metadata": {
        "id": "kJ7CvfNheZbs",
        "colab_type": "text"
      },
      "cell_type": "markdown",
      "source": [
        "\n"
      ]
    },
    {
      "metadata": {
        "id": "7EoSkRZ5eZb1",
        "colab_type": "text"
      },
      "cell_type": "markdown",
      "source": [
        "# 課題\n",
        "\n",
        "\n",
        "\n",
        "(1)  toys = {\"PS4\":36400,  \"Switch\":32800,  \"XBOX\":19200} である時、関数 sum, values を使って数値部分の合計を求めるプログラムを作成せよ。\n",
        "\n",
        "ヒント\n",
        "- list(toys.values()) で値だけのリストを取り出せる。 \n",
        "- list が数値のリストであるとき、sum(list) で　要素の合計を計算できる。\n",
        "\n",
        "(2) toys = {\"PS4\":\"36400円\",  \"Switch\":\"32800円\",  \"XBOX\":\"19200円\"} である時、関数 sum, values を使って数値部分の合計を求めるプログラムを作成せよ。\n",
        "\n",
        "ヒント\n",
        " - list[0]、list[1], list[2] で、list の０番目、1番目、２番目を取り出せる\n",
        " -  x = \"abc\" の時、x[:-1] = \"ab\"　　　（最後の１文字を削除）\n",
        " - 文字列が式（数を含む）であるとき、eval(文字列）で数値に変換できる。\n",
        " \n",
        "(3)  [10  10, \"a\"  \"gudaguda\",  10  30, \"abc\"  \"def\"]　　\n",
        "\n",
        "結果が、[True, True, False, True] となるよう、空白部分に、 !=, ==, in のいずれかを入れなさい。\n",
        "\n",
        "(4)  <あ>、<い>、<う> には何が入るか？　\n",
        "~~~\n",
        "dict2 = <あ>\n",
        "dict1 = { 0:'A', 2:'Q', 3:'J' }\n",
        "dict1[<い>] =<う>  \n",
        "dict1.update(dict2)\n",
        "dict1\n",
        "~~~\n",
        "の結果が、    \n",
        "{0: 'A', 1: 'K', 2: 'Q', 3: 'J', 5: 'X', 6: 'Y'}     \n",
        "となる。\n",
        "\n"
      ]
    },
    {
      "metadata": {
        "collapsed": true,
        "id": "RQuqbE63eZb3",
        "colab_type": "code",
        "colab": {}
      },
      "cell_type": "code",
      "source": [
        "dict2={5:'X',6:'Y'}\n",
        "dict1 = { 0:'A', 2:'Q', 3:'J' }\n",
        "dict1[1]='K'\n",
        "dict1.update(dict2)\n",
        "dict1"
      ],
      "execution_count": 0,
      "outputs": []
    },
    {
      "metadata": {
        "collapsed": true,
        "id": "-E2T-c2MeZb-",
        "colab_type": "code",
        "colab": {}
      },
      "cell_type": "code",
      "source": [
        ""
      ],
      "execution_count": 0,
      "outputs": []
    },
    {
      "metadata": {
        "collapsed": true,
        "id": "U6CFULvieZcF",
        "colab_type": "code",
        "colab": {}
      },
      "cell_type": "code",
      "source": [
        ""
      ],
      "execution_count": 0,
      "outputs": []
    },
    {
      "metadata": {
        "collapsed": true,
        "id": "9vKupT-JeZcK",
        "colab_type": "code",
        "colab": {}
      },
      "cell_type": "code",
      "source": [
        ""
      ],
      "execution_count": 0,
      "outputs": []
    },
    {
      "metadata": {
        "collapsed": true,
        "id": "VoaETqAIeZcV",
        "colab_type": "code",
        "colab": {}
      },
      "cell_type": "code",
      "source": [
        ""
      ],
      "execution_count": 0,
      "outputs": []
    },
    {
      "metadata": {
        "collapsed": true,
        "id": "7XjSxsokeZca",
        "colab_type": "code",
        "colab": {}
      },
      "cell_type": "code",
      "source": [
        ""
      ],
      "execution_count": 0,
      "outputs": []
    },
    {
      "metadata": {
        "collapsed": true,
        "id": "Q5bFj1VyeZcp",
        "colab_type": "code",
        "colab": {}
      },
      "cell_type": "code",
      "source": [
        ""
      ],
      "execution_count": 0,
      "outputs": []
    }
  ]
}